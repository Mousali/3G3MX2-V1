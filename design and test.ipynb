{
 "cells": [
  {
   "cell_type": "markdown",
   "id": "391b33a2-11f7-4cdd-beed-34d5d20f3044",
   "metadata": {},
   "source": [
    "# OMRON MX2 Series Type V1 Paramater Calculations"
   ]
  },
  {
   "cell_type": "markdown",
   "id": "6b659a34-6c53-4283-8dad-21bea9192fb9",
   "metadata": {},
   "source": [
    "## Inverter Model Specifications"
   ]
  },
  {
   "cell_type": "code",
   "execution_count": 1,
   "id": "35dfc6c7-de53-47dd-aacb-9649c90f00b8",
   "metadata": {
    "tags": []
   },
   "outputs": [
    {
     "data": {
      "text/plain": [
       "% Asserting clauses for user:inverter_Nameplate_model/1\n"
      ]
     },
     "metadata": {},
     "output_type": "display_data"
    },
    {
     "data": {
      "text/plain": [
       "% Asserting clauses for user:inverter_type/1\n"
      ]
     },
     "metadata": {},
     "output_type": "display_data"
    },
    {
     "data": {
      "text/plain": [
       "% Asserting clauses for user:inverter_maximum_motor_capacity_kw/1\n"
      ]
     },
     "metadata": {},
     "output_type": "display_data"
    },
    {
     "data": {
      "text/plain": [
       "% Asserting clauses for user:inverter_voltage_class/2\n"
      ]
     },
     "metadata": {},
     "output_type": "display_data"
    },
    {
     "data": {
      "text/plain": [
       "% Asserting clauses for user:inverter_enclosure_rating/2\n"
      ]
     },
     "metadata": {},
     "output_type": "display_data"
    }
   ],
   "source": [
    "% inverter Model\n",
    "inverter_Nameplate_model('3G3MX2-A4150-V1(Q2)').\n",
    "\n",
    "inverter_type(X) :-\n",
    "    inverter_Nameplate_model(S),\n",
    "    sub_string(S,13,2,_,X).\n",
    "\n",
    "inverter_maximum_motor_capacity_kw(X) :-\n",
    "    inverter_Nameplate_model(S),\n",
    "    sub_string(S,9,3,_,Ns),\n",
    "    number_string(N,Ns),\n",
    "    X is N/10.\n",
    "    \n",
    "inverter_voltage_class(SS,'3-phase 400 VAC (400-V class)') :-\n",
    "    inverter_Nameplate_model(S),\n",
    "    sub_string(S,8,1,_,SS).\n",
    "\n",
    "inverter_enclosure_rating('A','Panel-mounting (IP10 or higher) or closed wall-mounting models') :-\n",
    "    inverter_Nameplate_model(S),\n",
    "    sub_string(S,_,1,7,'A')."
   ]
  },
  {
   "cell_type": "markdown",
   "id": "44957a60-45d5-483f-a17b-55e150dc8e66",
   "metadata": {},
   "source": [
    "## Connected Preferals"
   ]
  },
  {
   "cell_type": "code",
   "execution_count": 7,
   "id": "45202290-badd-4a06-bd45-3c596b922e20",
   "metadata": {
    "tags": []
   },
   "outputs": [
    {
     "data": {
      "text/plain": [
       "\u001b[1mtrue"
      ]
     },
     "metadata": {},
     "output_type": "display_data"
    }
   ],
   "source": [
    "volume_control_3G3AX_OP01(false).\n"
   ]
  },
  {
   "cell_type": "markdown",
   "id": "fe203b2e-92a5-4856-add5-c20331a6c186",
   "metadata": {},
   "source": [
    "## Motor Paramators"
   ]
  },
  {
   "cell_type": "code",
   "execution_count": 8,
   "id": "c22bd9ba-6e6a-4c53-b9f2-de0d5308d910",
   "metadata": {
    "tags": []
   },
   "outputs": [
    {
     "data": {
      "text/plain": [
       "% Asserting clauses for user:motor1_base_operating_frequancy/1\n"
      ]
     },
     "metadata": {},
     "output_type": "display_data"
    },
    {
     "data": {
      "text/plain": [
       "% Asserting clauses for user:motor1_maximum_operating_frequancy/1\n"
      ]
     },
     "metadata": {},
     "output_type": "display_data"
    },
    {
     "data": {
      "text/plain": [
       "% Asserting clauses for user:motor2_base_operating_frequancy/1\n"
      ]
     },
     "metadata": {},
     "output_type": "display_data"
    },
    {
     "data": {
      "text/plain": [
       "% Asserting clauses for user:motor2_maximum_operating_frequancy/1\n"
      ]
     },
     "metadata": {},
     "output_type": "display_data"
    }
   ],
   "source": [
    "% first motor paramators\n",
    "\n",
    "motor1_base_operating_frequancy(400).\n",
    "motor1_maximum_operating_frequancy(400).\n",
    "\n",
    "% second motor paramators\n",
    "\n",
    "motor2_base_operating_frequancy(400).\n",
    "motor2_maximum_operating_frequancy(400)."
   ]
  },
  {
   "cell_type": "markdown",
   "id": "4588eb7a-5018-4fc4-b415-6d7d6fbc7e77",
   "metadata": {},
   "source": [
    "## Operational Settings"
   ]
  },
  {
   "cell_type": "code",
   "execution_count": 9,
   "id": "76a13596-c1b1-4d7b-9582-86b21a7b999b",
   "metadata": {
    "tags": []
   },
   "outputs": [
    {
     "data": {
      "text/plain": [
       "% Asserting clauses for user:motor1_operation_speed_control_source/1\n"
      ]
     },
     "metadata": {},
     "output_type": "display_data"
    },
    {
     "data": {
      "text/plain": [
       "% Asserting clauses for user:motor1_run_command_source/1\n"
      ]
     },
     "metadata": {},
     "output_type": "display_data"
    },
    {
     "data": {
      "text/plain": [
       "% Asserting clauses for user:load_mode/1\n"
      ]
     },
     "metadata": {},
     "output_type": "display_data"
    },
    {
     "data": {
      "text/plain": [
       "% Asserting clauses for user:inverter_mode/1\n"
      ]
     },
     "metadata": {},
     "output_type": "display_data"
    },
    {
     "data": {
      "text/plain": [
       "% Asserting clauses for user:torque_limit/1\n"
      ]
     },
     "metadata": {},
     "output_type": "display_data"
    },
    {
     "data": {
      "text/plain": [
       "% Asserting clauses for user:analog_input_filter_ms/1\n"
      ]
     },
     "metadata": {},
     "output_type": "display_data"
    }
   ],
   "source": [
    "% 1st motor Frequency Reference Selection\n",
    "%motor1_operation_speed_control_source('Digital Operator (Volume)').\n",
    "%motor1_operation_speed_control_source('Control circuit terminal block (Analog input)').\n",
    "motor1_operation_speed_control_source('voltage (FV)').\n",
    "%motor1_operation_speed_control_source('current (FI)').\n",
    "%motor1_operation_speed_control_source('Digital Operator (F001)').\n",
    "%motor1_operation_speed_control_source('Modbus communication').\n",
    "%motor1_operation_speed_control_source('Option').\n",
    "%motor1_operation_speed_control_source('Pulse train frequency').\n",
    "%motor1_operation_speed_control_source('DriveProgramming').\n",
    "%motor1_operation_speed_control_source('Operation function output').\n",
    "\n",
    "% 1st RUN Command Selection\n",
    "%motor1_run_command_source('Control terminal block (Drive-Programming)').\n",
    "motor1_run_command_source('Digital Operator').\n",
    "%motor1_run_command_source('Modbus communication').\n",
    "%motor1_run_command_source('Option').\n",
    "\n",
    "% 2nd motor Frequency Reference Selection\n",
    "%motor2_operation_speed_control_source('Digital Operator (Volume)').\n",
    "%motor2_operation_speed_control_source('Control circuit terminal block (Analog input)').\n",
    "%motor2_operation_speed_control_source('voltage (FV)').\n",
    "%motor2_operation_speed_control_source('current (FI)').\n",
    "%motor2_operation_speed_control_source('Digital Operator (F001)').\n",
    "%motor2_operation_speed_control_source('Modbus communication').\n",
    "%motor2_operation_speed_control_source('Option').\n",
    "%motor2_operation_speed_control_source('Pulse train frequency').\n",
    "%motor2_operation_speed_control_source('DriveProgramming').\n",
    "%motor2_operation_speed_control_source('Operation function output').\n",
    "\n",
    "% 2nd RUN Command Selection\n",
    "%motor2_run_command_source('Control terminal block (Drive-Programming)').\n",
    "%motor2_run_command_source('Digital Operator').\n",
    "%motor2_run_command_source('Modbus communication').\n",
    "%motor2_run_command_source('Option').\n",
    "\n",
    "% Heavy Load/Light Load Selection\n",
    "load_mode('Heavy (CT)').\n",
    "%load_mode('Light (VT)').\n",
    "\n",
    "% Inverter Mode Selection\n",
    "inverter_mode('Disabled').\n",
    "%inverter_mode('Induction motor').\n",
    "%inverter_mode('Induction motor high-frequency').\n",
    "%inverter_mode('PM motor').\n",
    "\n",
    "% Torque Limit\n",
    "%torque_limit('disabled').\n",
    "torque_limit('200% with an input of 10V').\n",
    "\n",
    "% Analog Input Filter for FV and FI (Millisecond) window\n",
    "analog_input_filter_ms(16).\n",
    "%analog_input_filter_ms('Fixed to 500-ms filter with ±0.1-Hz hysteresis')."
   ]
  },
  {
   "cell_type": "markdown",
   "id": "fae4bdce-2eef-4f7c-9d49-9d15363295a1",
   "metadata": {
    "tags": []
   },
   "source": [
    "### Frequancy control profile\n",
    "\n",
    "```text\n",
    "\n",
    "   example frequency responce with f0=f1Hz                  \n",
    "\n",
    "    |                                                      \n",
    " f2 +--------------------------------+                     \n",
    "    |                    /|          |                     \n",
    "    |                   / |          |                     \n",
    "    |                  /  |          |                     \n",
    "    |                 /   |          |                     \n",
    "    |                /    |          |                     \n",
    "    |               /     |          |                     \n",
    "    |              /      |          |                     \n",
    "    |             /       |          |                     \n",
    "    |            /        |          |                     \n",
    "    |           /         |          |                     \n",
    "    |          /          |          |                     \n",
    " f1 |         /           |          |                     \n",
    " f0 +--------|            |          |                     \n",
    "    |        |            |          |                     \n",
    "    |        |            |          |                     \n",
    "    |        |            |          |                     \n",
    "    |--------|------------|----------|-------              \n",
    "    0%      i0          i1           100%                  \n",
    "    0mA                              10V                   \n",
    "    VR min                           20mA                  \n",
    "                                     VR max               \n",
    "                                     \n",
    "   example frequency responce with f0=0Hz                  \n",
    "   \n",
    "    |                                                      \n",
    "    |                                                      \n",
    " f2 +--------------------------------+                     \n",
    "    |                    /|          |                     \n",
    "    |                   / |          |                     \n",
    "    |                  /  |          |                     \n",
    "    |                 /   |          |                     \n",
    "    |                /    |          |                     \n",
    "    |               /     |          |                     \n",
    "    |              /      |          |                     \n",
    "    |             /       |          |                     \n",
    "    |            /        |          |                     \n",
    "    |           /         |          |                     \n",
    "    |          /          |          |                     \n",
    "    |         /           |          |                     \n",
    "    |        /            |          |                     \n",
    " f1 +-------/             |          |                     \n",
    "    |       |             |          |                     \n",
    "    |       |             |          |                     \n",
    " f0 +-------|-------------|----------|-------              \n",
    "    0%      i0           i1          100%                  \n",
    "    0mA                              10V                   \n",
    "    VR min                           20mA                  \n",
    "                                     VR max                \n",
    "\n",
    "plot created using https://textik.com/\n",
    "```"
   ]
  },
  {
   "cell_type": "code",
   "execution_count": 11,
   "id": "7c67ef20-2878-48d4-a438-707db7adf7c1",
   "metadata": {
    "tags": []
   },
   "outputs": [
    {
     "data": {
      "text/plain": [
       "% Asserting clauses for user:f0_at_0/1\n"
      ]
     },
     "metadata": {},
     "output_type": "display_data"
    },
    {
     "data": {
      "text/plain": [
       "% Asserting clauses for user:f1_at_i0/2\n"
      ]
     },
     "metadata": {},
     "output_type": "display_data"
    },
    {
     "data": {
      "text/plain": [
       "% Asserting clauses for user:f2_at_i1/2\n"
      ]
     },
     "metadata": {},
     "output_type": "display_data"
    }
   ],
   "source": [
    "% starting frequancy for a % of an input control signal 0V/0mA/VRmin\n",
    "\n",
    "f0_at_0(0). % f0 must = 0 or f1\n",
    "f1_at_i0(60,10).\n",
    "f2_at_i1(350,90)."
   ]
  },
  {
   "cell_type": "markdown",
   "id": "c0c7ef11-ece0-4f25-811c-056e5f54f0da",
   "metadata": {},
   "source": [
    "## Muti-function Input Terminal"
   ]
  },
  {
   "cell_type": "code",
   "execution_count": 12,
   "id": "06079a99-ffea-412f-9b6f-f62c571f1400",
   "metadata": {
    "tags": []
   },
   "outputs": [
    {
     "data": {
      "text/plain": [
       "% Asserting clauses for user:s1_input_funcation/1\n"
      ]
     },
     "metadata": {},
     "output_type": "display_data"
    },
    {
     "data": {
      "text/plain": [
       "% Asserting clauses for user:s1_normaly_open/1\n"
      ]
     },
     "metadata": {},
     "output_type": "display_data"
    },
    {
     "data": {
      "text/plain": [
       "% Asserting clauses for user:s2_input_funcation/1\n"
      ]
     },
     "metadata": {},
     "output_type": "display_data"
    },
    {
     "data": {
      "text/plain": [
       "% Asserting clauses for user:s2_normaly_open/1\n"
      ]
     },
     "metadata": {},
     "output_type": "display_data"
    },
    {
     "data": {
      "text/plain": [
       "% Asserting clauses for user:s3_input_funcation/1\n"
      ]
     },
     "metadata": {},
     "output_type": "display_data"
    },
    {
     "data": {
      "text/plain": [
       "% Asserting clauses for user:s3_normaly_open/1\n"
      ]
     },
     "metadata": {},
     "output_type": "display_data"
    },
    {
     "data": {
      "text/plain": [
       "% Asserting clauses for user:s4_input_funcation/1\n"
      ]
     },
     "metadata": {},
     "output_type": "display_data"
    },
    {
     "data": {
      "text/plain": [
       "% Asserting clauses for user:s4_normaly_open/1\n"
      ]
     },
     "metadata": {},
     "output_type": "display_data"
    },
    {
     "data": {
      "text/plain": [
       "% Asserting clauses for user:s5_input_funcation/1\n"
      ]
     },
     "metadata": {},
     "output_type": "display_data"
    },
    {
     "data": {
      "text/plain": [
       "% Asserting clauses for user:s5_normaly_open/1\n"
      ]
     },
     "metadata": {},
     "output_type": "display_data"
    },
    {
     "data": {
      "text/plain": [
       "% Asserting clauses for user:s6_input_funcation/1\n"
      ]
     },
     "metadata": {},
     "output_type": "display_data"
    },
    {
     "data": {
      "text/plain": [
       "% Asserting clauses for user:s6_normaly_open/1\n"
      ]
     },
     "metadata": {},
     "output_type": "display_data"
    },
    {
     "data": {
      "text/plain": [
       "% Asserting clauses for user:s7_input_funcation/1\n"
      ]
     },
     "metadata": {},
     "output_type": "display_data"
    },
    {
     "data": {
      "text/plain": [
       "% Asserting clauses for user:s7_normaly_open/1\n"
      ]
     },
     "metadata": {},
     "output_type": "display_data"
    }
   ],
   "source": [
    "% defauls\n",
    "s1_input_funcation('FW (Forward)').\n",
    "s1_normaly_open(true).\n",
    "s2_input_funcation('RV (Reverse)').\n",
    "s2_normaly_open(true).\n",
    "s3_input_funcation('RS (Reset)').\n",
    "s3_normaly_open(true).\n",
    "s4_input_funcation('EXT (External trip)').\n",
    "s4_normaly_open(true).\n",
    "s5_input_funcation('CF1 (Multi-step speed setting binary 1)').\n",
    "s5_normaly_open(true).\n",
    "s6_input_funcation('CF2 (Multi-step speed setting binary 2)').\n",
    "s6_normaly_open(true).\n",
    "s7_input_funcation('JG (Jogging)').\n",
    "s7_normaly_open(true)."
   ]
  },
  {
   "cell_type": "markdown",
   "id": "b4769af5-b40c-442f-acd6-90884d8d0ab4",
   "metadata": {
    "tags": []
   },
   "source": [
    "## Multi-step Speed Operation Function"
   ]
  },
  {
   "cell_type": "code",
   "execution_count": 14,
   "id": "f365f5fc-58a8-4e25-b1a0-435f6bc95dbd",
   "metadata": {
    "tags": []
   },
   "outputs": [
    {
     "data": {
      "text/plain": [
       "% Asserting clauses for user:multi_step_speed_mode/1\n"
      ]
     },
     "metadata": {},
     "output_type": "display_data"
    },
    {
     "data": {
      "text/plain": [
       "% Asserting clauses for user:multi_step_speed_1st_reference/1\n"
      ]
     },
     "metadata": {},
     "output_type": "display_data"
    },
    {
     "data": {
      "text/plain": [
       "% Asserting clauses for user:multi_step_speed_2nd_reference/1\n"
      ]
     },
     "metadata": {},
     "output_type": "display_data"
    },
    {
     "data": {
      "text/plain": [
       "% Asserting clauses for user:multi_step_speed_reference_1/1\n"
      ]
     },
     "metadata": {},
     "output_type": "display_data"
    },
    {
     "data": {
      "text/plain": [
       "% Asserting clauses for user:multi_step_speed_reference_2/1\n"
      ]
     },
     "metadata": {},
     "output_type": "display_data"
    },
    {
     "data": {
      "text/plain": [
       "% Asserting clauses for user:multi_step_speed_reference_3/1\n"
      ]
     },
     "metadata": {},
     "output_type": "display_data"
    },
    {
     "data": {
      "text/plain": [
       "% Asserting clauses for user:multi_step_speed_reference_4/1\n"
      ]
     },
     "metadata": {},
     "output_type": "display_data"
    },
    {
     "data": {
      "text/plain": [
       "% Asserting clauses for user:multi_step_speed_reference_5/1\n"
      ]
     },
     "metadata": {},
     "output_type": "display_data"
    },
    {
     "data": {
      "text/plain": [
       "% Asserting clauses for user:multi_step_speed_reference_6/1\n"
      ]
     },
     "metadata": {},
     "output_type": "display_data"
    },
    {
     "data": {
      "text/plain": [
       "% Asserting clauses for user:multi_step_speed_reference_7/1\n"
      ]
     },
     "metadata": {},
     "output_type": "display_data"
    },
    {
     "data": {
      "text/plain": [
       "% Asserting clauses for user:multi_step_speed_reference_8/1\n"
      ]
     },
     "metadata": {},
     "output_type": "display_data"
    },
    {
     "data": {
      "text/plain": [
       "% Asserting clauses for user:multi_step_speed_reference_9/1\n"
      ]
     },
     "metadata": {},
     "output_type": "display_data"
    },
    {
     "data": {
      "text/plain": [
       "% Asserting clauses for user:multi_step_speed_reference_10/1\n"
      ]
     },
     "metadata": {},
     "output_type": "display_data"
    },
    {
     "data": {
      "text/plain": [
       "% Asserting clauses for user:multi_step_speed_reference_11/1\n"
      ]
     },
     "metadata": {},
     "output_type": "display_data"
    },
    {
     "data": {
      "text/plain": [
       "% Asserting clauses for user:multi_step_speed_reference_12/1\n"
      ]
     },
     "metadata": {},
     "output_type": "display_data"
    },
    {
     "data": {
      "text/plain": [
       "% Asserting clauses for user:multi_step_speed_reference_13/1\n"
      ]
     },
     "metadata": {},
     "output_type": "display_data"
    },
    {
     "data": {
      "text/plain": [
       "% Asserting clauses for user:multi_step_speed_reference_14/1\n"
      ]
     },
     "metadata": {},
     "output_type": "display_data"
    },
    {
     "data": {
      "text/plain": [
       "% Asserting clauses for user:multi_step_speed_reference_15/1\n"
      ]
     },
     "metadata": {},
     "output_type": "display_data"
    }
   ],
   "source": [
    "multi_step_speed_mode('disabled').\n",
    "%multi_step_speed_mode('Binary (16-step selection with 4 terminals)').\n",
    "%multi_step_speed_mode('Bit (8-step selection with 7 terminals)').\n",
    "\n",
    "% only 4 bits 1 to 4 are used in binary mode. \n",
    "%s1_input_funcation('Multi-step speed setting binary', 1).\n",
    "%s2_input_funcation('Multi-step speed setting binary', 2).\n",
    "%s3_input_funcation('Multi-step speed setting binary', 3).\n",
    "%s4_input_funcation('Multi-step speed setting binary', 4).\n",
    "\n",
    "%s1_input_funcation('Multi-step speed setting bit', 1).\n",
    "%s2_input_funcation('Multi-step speed setting bit', 2).\n",
    "%s3_input_funcation('Multi-step speed setting bit', 3).\n",
    "%s4_input_funcation('Multi-step speed setting bit', 4).\n",
    "%s5_input_funcation('Multi-step speed setting bit', 5).\n",
    "%s6_input_funcation('Multi-step speed setting bit', 6).\n",
    "%s7_input_funcation('Multi-step speed setting bit', 7).\n",
    "\n",
    "multi_step_speed_1st_reference(0). % set start frequancy\n",
    "% 1st_multi_step_speed_reference('Control circuit terminal block: Analog input'). % start frequancy set with analog input\n",
    "multi_step_speed_2nd_reference(0). % set start frequancy\n",
    "% 2nd_multi_step_speed_reference('Control circuit terminal block: Analog input'). % start frequancy set with analog input\n",
    "\n",
    "multi_step_speed_reference_1(0).\n",
    "multi_step_speed_reference_2(0).\n",
    "multi_step_speed_reference_3(0).\n",
    "multi_step_speed_reference_4(0).\n",
    "multi_step_speed_reference_5(0).\n",
    "multi_step_speed_reference_6(0).\n",
    "multi_step_speed_reference_7(0).\n",
    "multi_step_speed_reference_8(0).\n",
    "multi_step_speed_reference_9(0).\n",
    "multi_step_speed_reference_10(0).\n",
    "multi_step_speed_reference_11(0).\n",
    "multi_step_speed_reference_12(0).\n",
    "multi_step_speed_reference_13(0).\n",
    "multi_step_speed_reference_14(0).\n",
    "multi_step_speed_reference_15(0)."
   ]
  },
  {
   "cell_type": "markdown",
   "id": "b8192e53-9cdb-4eb5-8c3d-036bd63146bb",
   "metadata": {},
   "source": [
    "## Inverter Resulting Funcations"
   ]
  },
  {
   "cell_type": "code",
   "execution_count": 15,
   "id": "513aadec-35ae-441b-a063-1ec57c000033",
   "metadata": {
    "tags": []
   },
   "outputs": [
    {
     "data": {
      "text/plain": [
       "% Asserting clauses for user:output_frequancy_source/1\n"
      ]
     },
     "metadata": {},
     "output_type": "display_data"
    }
   ],
   "source": [
    "% Output frequency reference value source\n",
    "output_frequancy_source('FV+FI') :-\n",
    "    \\+(\n",
    "        s1_input_funcation('AT (Analog input switching)');\n",
    "        s2_input_funcation('AT (Analog input switching)');\n",
    "        s3_input_funcation('AT (Analog input switching)');\n",
    "        s4_input_funcation('AT (Analog input switching)');\n",
    "        s5_input_funcation('AT (Analog input switching)');\n",
    "        s6_input_funcation('AT (Analog input switching)');\n",
    "        s7_input_funcation('AT (Analog input switching)')\n",
    "    )."
   ]
  },
  {
   "cell_type": "markdown",
   "id": "708b6624-ff21-4755-b9fa-74b5aa3defda",
   "metadata": {
    "tags": []
   },
   "source": [
    "## Helper Funcations"
   ]
  },
  {
   "cell_type": "code",
   "execution_count": 17,
   "id": "341e3e32-9d5f-4acd-b199-064a19d68fcb",
   "metadata": {
    "tags": []
   },
   "outputs": [
    {
     "data": {
      "text/html": [
       "\n",
       "            <style>\n",
       "            details  {\n",
       "              font-family: Menlo, Consolas, 'DejaVu Sans Mono', monospace; font-size: 13px;\n",
       "            }\n",
       "\n",
       "            details > summary {\n",
       "              cursor: pointer;\n",
       "            }\n",
       "            </style>\n",
       "            <details><summary>Previously defined clauses of user:output_frequancy_source/1 were retracted (click to expand)</summary><pre>:- dynamic output_frequancy_source/1.\n",
       "\n",
       "output_frequancy_source('FV+FI') :-\n",
       "    \\+ (   s1_input_funcation('AT (Analog input switching)')\n",
       "       ;   s2_input_funcation('AT (Analog input switching)')\n",
       "       ;   s3_input_funcation('AT (Analog input switching)')\n",
       "       ;   s4_input_funcation('AT (Analog input switching)')\n",
       "       ;   s5_input_funcation('AT (Analog input switching)')\n",
       "       ;   s6_input_funcation('AT (Analog input switching)')\n",
       "       ;   s7_input_funcation('AT (Analog input switching)')\n",
       "       ).\n",
       "</pre></details>"
      ],
      "text/plain": [
       "Previously defined clauses of user:output_frequancy_source/1 were retracted:\n",
       ":- dynamic output_frequancy_source/1.\n",
       "\n",
       "output_frequancy_source('FV+FI') :-\n",
       "    \\+ (   s1_input_funcation('AT (Analog input switching)')\n",
       "       ;   s2_input_funcation('AT (Analog input switching)')\n",
       "       ;   s3_input_funcation('AT (Analog input switching)')\n",
       "       ;   s4_input_funcation('AT (Analog input switching)')\n",
       "       ;   s5_input_funcation('AT (Analog input switching)')\n",
       "       ;   s6_input_funcation('AT (Analog input switching)')\n",
       "       ;   s7_input_funcation('AT (Analog input switching)')\n",
       "       ).\n"
      ]
     },
     "metadata": {
      "application/json": {}
     },
     "output_type": "display_data"
    },
    {
     "data": {
      "text/plain": [
       "% Asserting clauses for user:output_frequancy_source/1\n"
      ]
     },
     "metadata": {},
     "output_type": "display_data"
    },
    {
     "data": {
      "text/plain": [
       "% Asserting clauses for user:code_funcation/2\n"
      ]
     },
     "metadata": {},
     "output_type": "display_data"
    }
   ],
   "source": [
    "% Output frequency reference value source\n",
    "output_frequancy_source('FV+FI') :-\n",
    "\t\\+(\n",
    "    \ts1_input_funcation('AT (Analog input switching)');\n",
    "    \ts2_input_funcation('AT (Analog input switching)');\n",
    "    \ts3_input_funcation('AT (Analog input switching)');\n",
    "    \ts4_input_funcation('AT (Analog input switching)');\n",
    "    \ts5_input_funcation('AT (Analog input switching)');\n",
    "    \ts6_input_funcation('AT (Analog input switching)');\n",
    "    \ts7_input_funcation('AT (Analog input switching)')\n",
    "      ).\n",
    "    \n",
    "\n",
    "% input funcation\n",
    "code_funcation('00','FW (Forward)').\n",
    "code_funcation('01','RV (Reverse)').\n",
    "code_funcation('02','CF1 (Multi-step speed setting binary 1)').\n",
    "code_funcation('03','CF2 (Multi-step speed setting binary 2)').\n",
    "code_funcation('04','CF3 (Multi-step speed setting binary 3)').\n",
    "code_funcation('05','CF4 (Multi-step speed setting binary 4)').\n",
    "code_funcation('06','JG (Jogging)').\n",
    "code_funcation('07','DB (External DC injection braking)').\n",
    "code_funcation('08','SET (2nd control)').\n",
    "code_funcation('09','2CH (2-step acceleration/deceleration)').\n",
    "code_funcation('11','FRS (Free-run stop)').\n",
    "code_funcation('12','EXT (External trip)').\n",
    "code_funcation('13','USP (Power recovery restart prevention function)').\n",
    "code_funcation('14','CS (Commercial switching)').\n",
    "code_funcation('15','SFT (Soft lock)').\n",
    "code_funcation('16','AT (Analog input switching)').\n",
    "code_funcation('18','RS (Reset)').\n",
    "code_funcation('19','TH (PTC thermistor thermal protection, C005 only)').\n",
    "code_funcation('20','STA (3-wire start)').\n",
    "code_funcation('21','STP (3-wire stop)').\n",
    "code_funcation('22','F/R (3-wire forward/reverse)').\n",
    "code_funcation('23','PID (PID disabled)').\n",
    "code_funcation('24','PIDC (PID integral reset)').\n",
    "code_funcation('27','UP (Remote operation accelerated)').\n",
    "code_funcation('28','DWN (Remote operation decelerated)').\n",
    "code_funcation('29','UDC (Remote operation data clear)').\n",
    "code_funcation('31','OPE (Forced operator function)').\n",
    "code_funcation('32','SF1 (Multi-step speed setting bit 1)').\n",
    "code_funcation('33','SF2 (Multi-step speed setting bit 2)').\n",
    "code_funcation('34','SF3 (Multi-step speed setting bit 3)').\n",
    "code_funcation('35','SF4 (Multi-step speed setting bit 4)').\n",
    "code_funcation('36','SF5 (Multi-step speed setting bit 5)').\n",
    "code_funcation('37','SF6 (Multi-step speed setting bit 6)').\n",
    "code_funcation('38','SF7 (Multi-step speed setting bit 7)').\n",
    "code_funcation('39','OLR (Overload limit switching)').\n",
    "code_funcation('40','TL (Torque limit enabled)').\n",
    "code_funcation('41','TRQ1 (Torque limit switching 1)').\n",
    "code_funcation('42','TRQ2 (Torque limit switching 2)').\n",
    "code_funcation('44','BOK (Brake confirmation)').\n",
    "code_funcation('46','LAC (LAD cancel)').\n",
    "code_funcation('47','PCLR (Current position clear)').\n",
    "code_funcation('50','ADD (Set frequency A145 addition)').\n",
    "code_funcation('51','F-TM (Forced terminal block)').\n",
    "code_funcation('52','ATR (Torque command input permission)').\n",
    "code_funcation('53','KHC (Integrated power clear)').\n",
    "code_funcation('56','MI1 (General-purpose input 1)').\n",
    "code_funcation('57','MI2 (General-purpose input 2)').\n",
    "code_funcation('58','MI3 (General-purpose input 3)').\n",
    "code_funcation('59','MI4 (General-purpose input 4)').\n",
    "code_funcation('60','MI5 (General-purpose input 5)').\n",
    "code_funcation('61','MI6 (General-purpose input 6)').\n",
    "code_funcation('62','MI7 (General-purpose input 7)').\n",
    "code_funcation('65','AHD (Analog command held)').\n",
    "code_funcation('66','CP1 (Position command selection 1)').\n",
    "code_funcation('67','CP2 (Position command selection 2)').\n",
    "code_funcation('68','CP3 (Position command selection 3)').\n",
    "code_funcation('69','ORL (Origin search limit signal)').\n",
    "code_funcation('70','ORG (Origin search startup signal)').\n",
    "code_funcation('73','SPD (Speed/Position switching)').\n",
    "code_funcation('77','GS1 (GS1 input, C003 only)').\n",
    "code_funcation('78','GS2 (GS2 input, C004 only)').\n",
    "code_funcation('81','485 (Start co-inverter communication)').\n",
    "code_funcation('82','PRG (DriveProgramming start)').\n",
    "code_funcation('83','HLD (Retain output frequency)').\n",
    "code_funcation('84','ROK (Permission of RUN command)').\n",
    "code_funcation('85','EB (Rotation direction detection, C007 only)').\n",
    "code_funcation('86','DISP (Display fixed)').\n",
    "code_funcation('91','PSET (Preset position)').\n",
    "code_funcation('255','no (No allocation)').\n",
    "\n",
    "% output funcation\n",
    "\n",
    "code_funcation('00','RUN (Signal during RUN)').\n",
    "code_funcation('01','FA1 (Constant speed arrival signal)').\n",
    "code_funcation('02','FA2 (Set frequency exceeded signal)').\n",
    "code_funcation('03','OL (Overload warning)').\n",
    "code_funcation('04','OD (Excessive PID deviation)').\n",
    "code_funcation('05','AL (Alarm signal)').\n",
    "code_funcation('06','FA3 (Set-frequency only signal)').\n",
    "code_funcation('07','OTQ (Overtorque/Undertorque signal)').\n",
    "code_funcation('09','UV (Signal during undervoltage)').\n",
    "code_funcation('10','TRQ (Torque limit)').\n",
    "code_funcation('11','RNT (RUN time over)').\n",
    "code_funcation('12','ONT (Power ON time over)').\n",
    "code_funcation('13','THM (Electronic thermal warning)').\n",
    "code_funcation('19','BRK (Brake release)').\n",
    "code_funcation('20','BER (Brake error)').\n",
    "code_funcation('21','ZS (0-Hz detection signal)').\n",
    "code_funcation('22','DSE (Excessive speed deviation)').\n",
    "code_funcation('23','POK (Position ready)').\n",
    "code_funcation('24','FA4 (Set frequency exceeded signal 2)').\n",
    "code_funcation('25','FA5 (Set-frequency only signal 2)').\n",
    "code_funcation('26','OL2 (Overload warning 2)').\n",
    "code_funcation('27','FVDc (Analog FV disconnection detection)').\n",
    "code_funcation('28','FIDc (Analog FI disconnection detection)').\n",
    "code_funcation('31','FBV (PID feedback comparison signal)').\n",
    "code_funcation('32','NDc (Communications disconnectiondetection)').\n",
    "code_funcation('33','LOG1 (Logic operation output 1)').\n",
    "code_funcation('34','LOG2 (Logic operation output 2)').\n",
    "code_funcation('35','LOG3 (Logic operation output 3)').\n",
    "code_funcation('39','WAC (Capacitor life warning signal)').\n",
    "code_funcation('40','WAF (Cooling fan life warning signal)').\n",
    "code_funcation('41','FR (Starting contact signal)').\n",
    "code_funcation('42','OHF (Cooling fin overheat warning)').\n",
    "code_funcation('43','LOC (Low current signal)').\n",
    "code_funcation('44','MO1 (General-purpose output 1)').\n",
    "code_funcation('45','MO2 (General-purpose output 2)').\n",
    "code_funcation('46','MO3 (General-purpose output 3)').\n",
    "code_funcation('50','IRDY (Operation ready)').\n",
    "code_funcation('51','FWR (Forward run signal)').\n",
    "code_funcation('52','RVR (Reverse run signal)').\n",
    "code_funcation('53','MJA (Fatal fault signal)').\n",
    "code_funcation('54','WCFV (Window comparator FV)').\n",
    "code_funcation('55','WCFI (Window comparator FI)').\n",
    "code_funcation('58','FREF (Frequency reference source)').\n",
    "code_funcation('59','REF (RUN command source)').\n",
    "code_funcation('60','SETM (Motor 2 selection)').\n",
    "code_funcation('62','EDM (Safety device monitor)*1').\n",
    "code_funcation('63','OPO (Option)').\n",
    "code_funcation('255','no (No allocation)')."
   ]
  },
  {
   "cell_type": "markdown",
   "id": "2e9919ed-18e3-41fd-b77e-335143b125de",
   "metadata": {
    "tags": []
   },
   "source": [
    "## Parameter List"
   ]
  },
  {
   "cell_type": "markdown",
   "id": "821af91b-2a6a-4068-a3c5-7e3b6b728ee4",
   "metadata": {
    "tags": []
   },
   "source": [
    "### Group A: Standard Function Parameters"
   ]
  },
  {
   "cell_type": "code",
   "execution_count": 20,
   "id": "9d8eec26-8274-434f-b6ef-d166db7f4e8b",
   "metadata": {
    "tags": []
   },
   "outputs": [
    {
     "data": {
      "text/plain": [
       "% Asserting clauses for user:a001/1\n"
      ]
     },
     "metadata": {},
     "output_type": "display_data"
    },
    {
     "data": {
      "text/plain": [
       "% Asserting clauses for user:a201/1\n"
      ]
     },
     "metadata": {},
     "output_type": "display_data"
    },
    {
     "data": {
      "text/plain": [
       "% Asserting clauses for user:a002/1\n"
      ]
     },
     "metadata": {},
     "output_type": "display_data"
    },
    {
     "data": {
      "text/plain": [
       "% Asserting clauses for user:a202/1\n"
      ]
     },
     "metadata": {},
     "output_type": "display_data"
    },
    {
     "data": {
      "text/plain": [
       "% Asserting clauses for user:a003/1\n"
      ]
     },
     "metadata": {},
     "output_type": "display_data"
    },
    {
     "data": {
      "text/plain": [
       "% Asserting clauses for user:a203/1\n"
      ]
     },
     "metadata": {},
     "output_type": "display_data"
    },
    {
     "data": {
      "text/plain": [
       "% Asserting clauses for user:a004/1\n"
      ]
     },
     "metadata": {},
     "output_type": "display_data"
    },
    {
     "data": {
      "text/plain": [
       "% Asserting clauses for user:a204/1\n"
      ]
     },
     "metadata": {},
     "output_type": "display_data"
    },
    {
     "data": {
      "text/plain": [
       "% Asserting clauses for user:a005/1\n"
      ]
     },
     "metadata": {},
     "output_type": "display_data"
    },
    {
     "data": {
      "text/plain": [
       "% Asserting clauses for user:a141/1\n"
      ]
     },
     "metadata": {},
     "output_type": "display_data"
    },
    {
     "data": {
      "text/plain": [
       "% Asserting clauses for user:a011/1\n"
      ]
     },
     "metadata": {},
     "output_type": "display_data"
    },
    {
     "data": {
      "text/plain": [
       "% Asserting clauses for user:a101/1\n"
      ]
     },
     "metadata": {},
     "output_type": "display_data"
    },
    {
     "data": {
      "text/plain": [
       "% Asserting clauses for user:a161/1\n"
      ]
     },
     "metadata": {},
     "output_type": "display_data"
    },
    {
     "data": {
      "text/plain": [
       "% Asserting clauses for user:a012/1\n"
      ]
     },
     "metadata": {},
     "output_type": "display_data"
    },
    {
     "data": {
      "text/plain": [
       "% Asserting clauses for user:a102/1\n"
      ]
     },
     "metadata": {},
     "output_type": "display_data"
    },
    {
     "data": {
      "text/plain": [
       "% Asserting clauses for user:a162/1\n"
      ]
     },
     "metadata": {},
     "output_type": "display_data"
    },
    {
     "data": {
      "text/plain": [
       "% Asserting clauses for user:a013/1\n"
      ]
     },
     "metadata": {},
     "output_type": "display_data"
    },
    {
     "data": {
      "text/plain": [
       "% Asserting clauses for user:a103/1\n"
      ]
     },
     "metadata": {},
     "output_type": "display_data"
    },
    {
     "data": {
      "text/plain": [
       "% Asserting clauses for user:a163/1\n"
      ]
     },
     "metadata": {},
     "output_type": "display_data"
    },
    {
     "data": {
      "text/plain": [
       "% Asserting clauses for user:a014/1\n"
      ]
     },
     "metadata": {},
     "output_type": "display_data"
    },
    {
     "data": {
      "text/plain": [
       "% Asserting clauses for user:a104/1\n"
      ]
     },
     "metadata": {},
     "output_type": "display_data"
    },
    {
     "data": {
      "text/plain": [
       "% Asserting clauses for user:a164/1\n"
      ]
     },
     "metadata": {},
     "output_type": "display_data"
    },
    {
     "data": {
      "text/plain": [
       "% Asserting clauses for user:a015/1\n"
      ]
     },
     "metadata": {},
     "output_type": "display_data"
    },
    {
     "data": {
      "text/plain": [
       "% Asserting clauses for user:a016/1\n"
      ]
     },
     "metadata": {},
     "output_type": "display_data"
    }
   ],
   "source": [
    "a001('00') :- \n",
    "\tmotor1_operation_speed_control_source('Digital Operator (Volume)'),\n",
    "    volume_control('3G3AX-OP01').\n",
    "\n",
    "a001('01') :- \n",
    "\tmotor1_operation_speed_control_source('Control circuit terminal block (Analog input)').\n",
    "\n",
    "a001('01') :- \n",
    "    motor1_operation_speed_control_source('voltage (FV)').\n",
    "\n",
    "a001('01') :- \n",
    "    motor1_operation_speed_control_source('current (FI)').\n",
    "\n",
    "a001('02') :- \n",
    "    motor1_operation_speed_control_source('Digital Operator (F001)').\n",
    "\n",
    "a001('03') :- \n",
    "    motor1_operation_speed_control_source('Modbus communication').\n",
    "\n",
    "a001('04') :- \n",
    "    motor1_operation_speed_control_source('Option').\n",
    "\n",
    "a001('06') :- \n",
    "    motor1_operation_speed_control_source('Pulse train frequency').\n",
    "\n",
    "a001('07') :- \n",
    "    motor1_operation_speed_control_source('DriveProgramming').\n",
    "\n",
    "a001('10') :- \n",
    "    motor1_operation_speed_control_source('Operation function output').\n",
    "\n",
    "% A201\n",
    "a201('00') :- \n",
    "\tmotor2_operation_speed_control_source('Digital Operator (Volume)'),\n",
    "    volume_control('3G3AX-OP01').\n",
    "\n",
    "a201('01') :- \n",
    "\tmotor2_operation_speed_control_source('Control circuit terminal block (Analog input)').\n",
    "\n",
    "a201('01') :- \n",
    "    motor2_operation_speed_control_source('voltage (FV)').\n",
    "\n",
    "a201('01') :- \n",
    "    motor2_operation_speed_control_source('current (FI)').\n",
    "\n",
    "a201('02') :- \n",
    "    motor2_operation_speed_control_source('Digital Operator (F001)').\n",
    "\n",
    "a201('03') :- \n",
    "    motor2_operation_speed_control_source('Modbus communication').\n",
    "\n",
    "a201('04') :- \n",
    "    motor2_operation_speed_control_source('Option').\n",
    "\n",
    "a201('06') :- \n",
    "    motor2_operation_speed_control_source('Pulse train frequency').\n",
    "\n",
    "a201('07') :- \n",
    "    motor2_operation_speed_control_source('DriveProgramming').\n",
    "\n",
    "a201('10') :- \n",
    "    motor1_operation_speed_control_source('Operation function output').\n",
    "\n",
    "% A002 1st RUN Command Selection\n",
    "a002('01') :- \n",
    "    motor1_run_command_source('Control terminal block (Drive-Programming)').\n",
    "\n",
    "a002('02') :- \n",
    "    motor1_run_command_source('Digital Operator').\n",
    "\n",
    "a002('03') :- \n",
    "    motor1_run_command_source('Modbus communication').\n",
    "\n",
    "a002('04') :- \n",
    "    motor1_run_command_source('Option').\n",
    "\n",
    "% A202 2st RUN Command Selection\n",
    "a202('01') :- \n",
    "    motor2_run_command_source('Control terminal block (Drive-Programming)').\n",
    "\n",
    "a202('02') :- \n",
    "    motor2_run_command_source('Digital Operator').\n",
    "\n",
    "a202('03') :- \n",
    "    motor2_run_command_source('Modbus communication').\n",
    "\n",
    "a202('04') :- \n",
    "    motor2_run_command_source('Option').\n",
    "\n",
    "% A003\n",
    "a003(X) :- \n",
    "    motor1_base_operating_frequancy(X),\n",
    "    X >= 30,\n",
    "    a004(Y),\n",
    "    X =< Y.\n",
    "\n",
    "a203(X) :- \n",
    "    motor2_base_operating_frequancy(X),\n",
    "    X >= 30,\n",
    "    a204(Y),\n",
    "    X =< Y.\n",
    "\n",
    "% motor maximum operating frequancy\n",
    "a004(X) :- \n",
    "    motor1_maximum_operating_frequancy(X),\n",
    "    X =< 400,\n",
    "    not(inverter_mode('Induction motor high-frequency')).\n",
    "    \n",
    "a004(X) :- \n",
    "    motor1_maximum_operating_frequancy(X),\n",
    "    X =< 580,\n",
    "    inverter_mode('Induction motor high-frequency').\n",
    "    \n",
    "a204(X) :- \n",
    "    motor2_maximum_operating_frequancy(X),\n",
    "    X =< 400,\n",
    "    not(inverter_mode('Induction motor high-frequency')).\n",
    "    \n",
    "a204(X) :- \n",
    "    motor2_maximum_operating_frequancy(X),\n",
    "    X =< 580,\n",
    "    inverter_mode('Induction motor high-frequency').\n",
    "    \n",
    "% A005 FV/FI Selection\n",
    "% Switch between FV (Voltage) and FI (Current)\n",
    "a005('00') :-\n",
    "    motor1_operation_speed_control_source('voltage (FV)').\n",
    "\n",
    "a005('00') :-\n",
    "    motor1_operation_speed_control_source('current (FI)').\n",
    "    \n",
    "% Switch between FV (Voltage) and volume\n",
    "a005('02') :-\n",
    "    volume_control_3G3AX_OP01(true),\n",
    "    motor1_operation_speed_control_source('voltage (FV)').\n",
    "    \n",
    "a005('02') :-\n",
    "    volume_control_3G3AX_OP01(true),\n",
    "    motor1_operation_speed_control_source('Digital Operator (Volume)').\n",
    "    \n",
    "% 'witch between FI (Current) and volume\n",
    "a005('03') :-\n",
    "    volume_control_3G3AX_OP01(true),\n",
    "    motor1_operation_speed_control_source('current (FI)').\n",
    "\n",
    "a005('03') :-\n",
    "    volume_control_3G3AX_OP01(true),\n",
    "    motor1_operation_speed_control_source('Digital Operator (Volume)').\n",
    "\n",
    "a141('02') :- \n",
    "    motor1_speed_control_mothod('voltage').\n",
    "    \n",
    "a141('03') :- \n",
    "    motor1_speed_control_mothod('current').\n",
    "\n",
    "\n",
    "a011(F1) :-\n",
    "    a003(A003),\n",
    "    f1_at_i0(F1,_),\n",
    "    F1 =< A003.\n",
    "\n",
    "\n",
    "a101(F1) :-\n",
    "    a003(A003),\n",
    "    f1_at_i0(F1,_),\n",
    "    F1 =< A003.\n",
    "\n",
    "a161(F1) :-\n",
    "    a003(A003),\n",
    "    f1_at_i0(F1,_),\n",
    "    F1 =< A003.\n",
    "\n",
    "a012(F2) :-\n",
    "    a003(A003),\n",
    "    f2_at_i1(F2,_),\n",
    "    F2 =< A003.\n",
    "\n",
    "a102(F2) :-\n",
    "    a003(A003),\n",
    "    f2_at_i1(F2,_),\n",
    "    F2 =< A003.\n",
    "\n",
    "a162(F2) :-\n",
    "    a003(A003),\n",
    "    f2_at_i1(F2,_),\n",
    "    F2 =< A003.\n",
    "\n",
    "a013(I0) :-\n",
    "\tf1_at_i0(_,I0),\n",
    "\tf2_at_i1(_,I1),\n",
    "    I0 < I1.\n",
    "    \n",
    "a103(I0) :-\n",
    "\tf1_at_i0(_,I0),\n",
    "\tf2_at_i1(_,I1),\n",
    "    I0 < I1.\n",
    "\n",
    "a163(I0) :-\n",
    "\tf1_at_i0(_,I0),\n",
    "\tf2_at_i1(_,I1),\n",
    "    I0 < I1.\n",
    "\n",
    "a014(I1) :-\n",
    "\tf1_at_i0(_,I0),\n",
    "\tf2_at_i1(_,I1),\n",
    "    I0 < I1.\n",
    "    \n",
    "a104(I1) :-\n",
    "\tf1_at_i0(_,I0),\n",
    "\tf2_at_i1(_,I1),\n",
    "    I0 < I1.\n",
    "\n",
    "a164(I1) :-\n",
    "\tf1_at_i0(_,I0),\n",
    "\tf2_at_i1(_,I1),\n",
    "    I0 < I1.\n",
    "\n",
    "a015('00') :-\n",
    "\tf0_at_0(0).\n",
    "    \n",
    "a015('01') :-\n",
    "\tf0_at_0(F0),\n",
    "\tf1_at_i0(F0,_),\n",
    "    F0 > 0.\n",
    "\n",
    "a016('31') :-\n",
    "    % TODO: must not be useing PID funcation\n",
    "\tanalog_input_filter_ms('Fixed to 500-ms filter with ±0.1-Hz hysteresis');\n",
    "    (\n",
    "    \tanalog_input_filter_ms(Y), \n",
    "    \tY >= 62\n",
    "    ).\n",
    "\n",
    "%volume_control_3G3AX_OP01(false).\n",
    "\n",
    "a016(X) :-\n",
    "\tanalog_input_filter_ms(Y),\n",
    "    Y =< 61,\n",
    "    X is div(Y,2).\n",
    "\n",
    "%a017('00') :-\n",
    "\t% DriveProgramming Function Parameters are not covered. \n",
    "\t% 01: Enabled (Start/stop via multifunction\n",
    "\t% input PRG terminal)\n",
    "\t% 02: Enabled (Start/stop via power\n",
    "\t% on/off)\n",
    "\n",
    "% Multi-step speed, jogging\n",
    "%a019('00') :-\n",
    "%\t'Binary (16-step selection with 4 terminals)'\n",
    "%a019('00') :-\n",
    "%\t'Bit (8-step selection with 7 terminals)'"
   ]
  },
  {
   "cell_type": "markdown",
   "id": "cc4ba05e-1435-4bad-a22c-0b18d7deb712",
   "metadata": {},
   "source": [
    "### Group b: Detailed Function Parameters"
   ]
  },
  {
   "cell_type": "code",
   "execution_count": null,
   "id": "f6c7efe3-20de-4fb0-acfe-18c562785d63",
   "metadata": {},
   "outputs": [],
   "source": [
    "b040('00') :-\n",
    "    torque_limit('disabled').\n",
    "\n",
    "b040('02') :-\n",
    "\ttorque_limit('200% with an input of 10V').\n",
    "\n",
    "% b049 Heavy Load/Light Load Selection\n",
    "b049('00') :- \n",
    "\tload_mode('Heavy (CT)').\n",
    "\n",
    "b049('01') :- \n",
    "\tload_mode('Light (VT)').\n",
    "\n",
    "% b171 Inverter Mode Selection\n",
    "b171('00') :-\n",
    "\tinverter_mode('Disabled').\n",
    "\n",
    "b171('00') :-\n",
    "\tinverter_mode('Induction motor').\n",
    "\n",
    "b171('02') :-\n",
    "\tinverter_mode('Induction motor high-frequency').\n",
    "\n",
    "b171('03') :-\n",
    "\tinverter_mode('PM motor').\n",
    "\n",
    "% b180 Initialization Execution Need to trigure change on change of b049 and b171\n",
    "% 00: Function disabled\n",
    "% 01: Execute initialization"
   ]
  },
  {
   "cell_type": "markdown",
   "id": "3df8b63c-8844-4e29-8256-a51ac77bc6c3",
   "metadata": {},
   "source": [
    "### Group C: Multi-function Terminal Function Parameters"
   ]
  },
  {
   "cell_type": "code",
   "execution_count": null,
   "id": "7043cc66-d437-41f7-8238-7eee647f3280",
   "metadata": {
    "tags": []
   },
   "outputs": [
    {
     "data": {
      "text/plain": [
       "\u001b[1;31mERROR: Syntax error: Operand expected, unquoted comma or bar found\n",
       "ERROR: c001(X) :- \n",
       "\tmulti_step_speed_mode('Binary (16-step selection with 4 terminals)'),\n",
       "    s1_input_funcation('Multi-step speed setting binary', B),\n",
       "    re_replace\n",
       "ERROR: ** here **\n",
       "ERROR: (,B,'CFX (Multi-step speed setting binary X)',S),\n",
       "    code_funcation(X,S),\n",
       "    \n",
       "    s2_input_funcation('Multi-step speed setting binary', 2),\n",
       "    s3_input_funcation('Multi-step speed setting binary', 3),\n",
       "    s4_input_funcation('Multi-step speed setting binary', 4),\n",
       "    code_funcation('03','CF2 (Multi-step speed setting binary 2)'),\n",
       "    code_funcation('04','CF3 (Multi-step speed setting binary 3)'),\n",
       "    code_funcation('05','CF4 (Multi-step speed setting binary 4)'),\n",
       "\n",
       "\n",
       "multi_step_speed_mode('Bit (8-step selection with 7 terminals)'). \n"
      ]
     },
     "metadata": {},
     "output_type": "display_data"
    }
   ],
   "source": [
    "c001(X) :- \n",
    "\tmulti_step_speed_mode('Binary (16-step selection with 4 terminals)'),\n",
    "    s1_input_funcation('Multi-step speed setting binary', B),\n",
    "    re_replace(,B,'CFX (Multi-step speed setting binary X)',S),\n",
    "    code_funcation(X,S),\n",
    "    \n",
    "    s2_input_funcation('Multi-step speed setting binary', 2),\n",
    "    s3_input_funcation('Multi-step speed setting binary', 3),\n",
    "    s4_input_funcation('Multi-step speed setting binary', 4),\n",
    "    code_funcation('03','CF2 (Multi-step speed setting binary 2)'),\n",
    "    code_funcation('04','CF3 (Multi-step speed setting binary 3)'),\n",
    "    code_funcation('05','CF4 (Multi-step speed setting binary 4)'),\n",
    "\n",
    "\n",
    "multi_step_speed_mode('Bit (8-step selection with 7 terminals)').\n",
    "s1_input_funcation('Multi-step speed setting bit', 1).\n",
    "s2_input_funcation('Multi-step speed setting bit', 2).\n",
    "s3_input_funcation('Multi-step speed setting bit', 3).\n",
    "s4_input_funcation('Multi-step speed setting bit', 4).\n",
    "s5_input_funcation('Multi-step speed setting bit', 5).\n",
    "s6_input_funcation('Multi-step speed setting bit', 6).\n",
    "s7_input_funcation('Multi-step speed setting bit', 7).\n",
    "\n",
    "code_funcation('32','SF1 (Multi-step speed setting bit 1)').\n",
    "code_funcation('33','SF2 (Multi-step speed setting bit 2)').\n",
    "code_funcation('34','SF3 (Multi-step speed setting bit 3)').\n",
    "code_funcation('35','SF4 (Multi-step speed setting bit 4)').\n",
    "code_funcation('36','SF5 (Multi-step speed setting bit 5)').\n",
    "code_funcation('37','SF6 (Multi-step speed setting bit 6)').\n",
    "code_funcation('38','SF7 (Multi-step speed setting bit 7)')."
   ]
  },
  {
   "cell_type": "code",
   "execution_count": 21,
   "id": "810b1e48-ec70-49e8-b6f8-45da11fdd584",
   "metadata": {
    "tags": []
   },
   "outputs": [
    {
     "data": {
      "text/plain": [
       "% Asserting clauses for user:c001/1\n"
      ]
     },
     "metadata": {},
     "output_type": "display_data"
    },
    {
     "data": {
      "text/plain": [
       "% Asserting clauses for user:c002/1\n"
      ]
     },
     "metadata": {},
     "output_type": "display_data"
    },
    {
     "data": {
      "text/plain": [
       "% Asserting clauses for user:c003/1\n"
      ]
     },
     "metadata": {},
     "output_type": "display_data"
    },
    {
     "data": {
      "text/plain": [
       "% Asserting clauses for user:c004/1\n"
      ]
     },
     "metadata": {},
     "output_type": "display_data"
    },
    {
     "data": {
      "text/plain": [
       "% Asserting clauses for user:c005/1\n"
      ]
     },
     "metadata": {},
     "output_type": "display_data"
    },
    {
     "data": {
      "text/plain": [
       "% Asserting clauses for user:c006/1\n"
      ]
     },
     "metadata": {},
     "output_type": "display_data"
    },
    {
     "data": {
      "text/plain": [
       "% Asserting clauses for user:c007/1\n"
      ]
     },
     "metadata": {},
     "output_type": "display_data"
    },
    {
     "data": {
      "text/plain": [
       "% Asserting clauses for user:c011/1\n"
      ]
     },
     "metadata": {},
     "output_type": "display_data"
    },
    {
     "data": {
      "text/plain": [
       "% Asserting clauses for user:c012/1\n"
      ]
     },
     "metadata": {},
     "output_type": "display_data"
    },
    {
     "data": {
      "text/plain": [
       "% Asserting clauses for user:c013/1\n"
      ]
     },
     "metadata": {},
     "output_type": "display_data"
    },
    {
     "data": {
      "text/plain": [
       "% Asserting clauses for user:c014/1\n"
      ]
     },
     "metadata": {},
     "output_type": "display_data"
    },
    {
     "data": {
      "text/plain": [
       "% Asserting clauses for user:c015/1\n"
      ]
     },
     "metadata": {},
     "output_type": "display_data"
    },
    {
     "data": {
      "text/plain": [
       "% Asserting clauses for user:c016/1\n"
      ]
     },
     "metadata": {},
     "output_type": "display_data"
    },
    {
     "data": {
      "text/plain": [
       "% Asserting clauses for user:c017/1\n"
      ]
     },
     "metadata": {},
     "output_type": "display_data"
    }
   ],
   "source": [
    "c001(X) :- \n",
    "    multi_step_speed_mode('disabled'),\n",
    "    code_funcation(X,F),\n",
    "    s1_input_funcation(F).\n",
    "\n",
    "c002(X) :- \n",
    "    multi_step_speed_mode('disabled'),\n",
    "    code_funcation(X,F),\n",
    "    s2_input_funcation(F).\n",
    "\n",
    "c003(X) :- \n",
    "    multi_step_speed_mode('disabled'),\n",
    "    code_funcation(X,F),\n",
    "    s3_input_funcation(F).\n",
    "\n",
    "c004(X) :- \n",
    "    multi_step_speed_mode('disabled'),\n",
    "    code_funcation(X,F),\n",
    "    s4_input_funcation(F).\n",
    "\n",
    "c005(X) :- \n",
    "    multi_step_speed_mode('disabled'),\n",
    "    code_funcation(X,F),\n",
    "    s5_input_funcation(F).\n",
    "\n",
    "c006(X) :- \n",
    "    multi_step_speed_mode('disabled'),\n",
    "    code_funcation(X,F),\n",
    "    s6_input_funcation(F).\n",
    "\n",
    "c007(X) :- \n",
    "    multi_step_speed_mode('disabled'),\n",
    "    code_funcation(X,F),\n",
    "    s7_input_funcation(F).\n",
    "    \n",
    "c011('00') :- \n",
    "\ts1_normaly_open(true).\n",
    "    \n",
    "c011('01') :- \n",
    "\ts1_normaly_open(false).\n",
    "    \n",
    "c012('00') :- \n",
    "\ts2_normaly_open(true).\n",
    "    \n",
    "c012('01') :- \n",
    "\ts2_normaly_open(false).\n",
    "    \n",
    "c013('00') :- \n",
    "\ts3_normaly_open(true).\n",
    "    \n",
    "c013('01') :- \n",
    "\ts3_normaly_open(false).\n",
    "    \n",
    "c014('00') :- \n",
    "\ts4_normaly_open(true).\n",
    "    \n",
    "c014('01') :- \n",
    "\ts4_normaly_open(false).\n",
    "    \n",
    "c015('00') :- \n",
    "\ts5_normaly_open(true).\n",
    "    \n",
    "c015('01') :- \n",
    "\ts5_normaly_open(false).\n",
    "    \n",
    "c016('00') :- \n",
    "\ts6_normaly_open(true).\n",
    "    \n",
    "c016('01') :- \n",
    "\ts6_normaly_open(false).\n",
    "    \n",
    "c017('00') :- \n",
    "\ts7_normaly_open(true).\n",
    "    \n",
    "c017('01') :- \n",
    "\ts7_normaly_open(false).\n",
    "\n",
    ":- use_module(library(lists))."
   ]
  },
  {
   "cell_type": "code",
   "execution_count": 22,
   "id": "ed81ed1e-66e1-4163-984b-9adaac126638",
   "metadata": {
    "tags": []
   },
   "outputs": [
    {
     "data": {
      "text/plain": [
       "\u001b[1mC007 = 00"
      ]
     },
     "metadata": {},
     "output_type": "display_data"
    }
   ],
   "source": [
    "c017(C007)."
   ]
  },
  {
   "cell_type": "code",
   "execution_count": null,
   "id": "98c93809-860d-46f2-aced-b8a8ab2db2a4",
   "metadata": {},
   "outputs": [],
   "source": []
  },
  {
   "cell_type": "code",
   "execution_count": null,
   "id": "151aea37-59a7-4234-a1e6-f27eb18b195a",
   "metadata": {},
   "outputs": [],
   "source": []
  },
  {
   "cell_type": "code",
   "execution_count": null,
   "id": "026cf9b6-aeec-43f1-811d-0e9d385abc3f",
   "metadata": {},
   "outputs": [],
   "source": []
  },
  {
   "cell_type": "code",
   "execution_count": null,
   "id": "5e5520f4-507b-4dcc-b04c-50fbfb4543cd",
   "metadata": {},
   "outputs": [],
   "source": []
  },
  {
   "cell_type": "code",
   "execution_count": 1,
   "id": "ea6e6331-ee9c-45be-911d-1cd211b9644b",
   "metadata": {
    "tags": []
   },
   "outputs": [
    {
     "data": {
      "text/plain": [
       "% Asserting clauses for user:a001/1\n"
      ]
     },
     "metadata": {},
     "output_type": "display_data"
    }
   ],
   "source": [
    "%\n",
    "a001(A001):- A001 = \"00\"."
   ]
  },
  {
   "cell_type": "code",
   "execution_count": 77,
   "id": "bcee565a-9d8e-4085-900d-4f2adb3b81fc",
   "metadata": {
    "tags": []
   },
   "outputs": [
    {
     "data": {
      "text/plain": [
       "% Asserting clauses for user:a002/1\n"
      ]
     },
     "metadata": {},
     "output_type": "display_data"
    }
   ],
   "source": [
    "a002(A002):- A002 = \"02\"."
   ]
  },
  {
   "cell_type": "code",
   "execution_count": 78,
   "id": "8cc03ea5-a4ae-49bd-a0f8-82b56f7ec7fa",
   "metadata": {
    "tags": []
   },
   "outputs": [
    {
     "data": {
      "text/plain": [
       "\u001b[1mX = 00"
      ]
     },
     "metadata": {},
     "output_type": "display_data"
    }
   ],
   "source": [
    "call(a001(X))."
   ]
  },
  {
   "cell_type": "code",
   "execution_count": 79,
   "id": "a776e338-c68e-4102-b9f1-6051c954f966",
   "metadata": {
    "tags": []
   },
   "outputs": [
    {
     "data": {
      "text/plain": [
       "\u001b[1mX = 00"
      ]
     },
     "metadata": {},
     "output_type": "display_data"
    }
   ],
   "source": [
    "call('a001'(X))."
   ]
  },
  {
   "cell_type": "code",
   "execution_count": 80,
   "id": "835d8e4c-65d1-4c01-b5ef-e5222f913903",
   "metadata": {
    "tags": []
   },
   "outputs": [
    {
     "data": {
      "text/plain": [
       "\u001b[1mP = a001,\n",
       "X = 00"
      ]
     },
     "metadata": {},
     "output_type": "display_data"
    }
   ],
   "source": [
    "P = 'a001', call(P,X)."
   ]
  },
  {
   "cell_type": "code",
   "execution_count": 81,
   "id": "264f2f7a-7f5d-4732-96d6-56b7fefd1ec8",
   "metadata": {
    "tags": []
   },
   "outputs": [
    {
     "data": {
      "text/plain": [
       "\u001b[1mX = a001,\n",
       "Y = 00"
      ]
     },
     "metadata": {},
     "output_type": "display_data"
    }
   ],
   "source": [
    "member(X,['a001','a002']), call(X,Y)."
   ]
  },
  {
   "cell_type": "code",
   "execution_count": 86,
   "id": "9456781d-8c5f-4074-9ebc-f9827062a75a",
   "metadata": {
    "tags": []
   },
   "outputs": [
    {
     "data": {
      "text/plain": [
       "\u001b[1mResultLists = [[A001,00],[A002,02]]"
      ]
     },
     "metadata": {},
     "output_type": "display_data"
    }
   ],
   "source": [
    "findall([Upper_X, Y], ( member(X,['a001','a002']), call(X,Y), string_upper(X,Upper_X) ), ResultLists)."
   ]
  },
  {
   "cell_type": "code",
   "execution_count": 87,
   "id": "54d30dd5-53d8-45e6-9d9f-3c3cd38f4288",
   "metadata": {
    "tags": []
   },
   "outputs": [
    {
     "data": {
      "text/markdown": [
       "Parameter | Value | \n",
       ":- | :- | \n",
       "A001 | 00 | \n",
       "A002 | 02 | "
      ],
      "text/plain": [
       "Parameter | Value | \n",
       ":- | :- | \n",
       "A001 | 00 | \n",
       "A002 | 02 | "
      ]
     },
     "metadata": {},
     "output_type": "display_data"
    },
    {
     "data": {
      "text/plain": [
       "\u001b[1mtrue"
      ]
     },
     "metadata": {},
     "output_type": "display_data"
    }
   ],
   "source": [
    "jupyter:print_table($ResultLists, ['Parameter', 'Value'])."
   ]
  },
  {
   "cell_type": "code",
   "execution_count": 55,
   "id": "a907fe84-cda4-4bb6-a695-b669050a23f2",
   "metadata": {
    "tags": []
   },
   "outputs": [
    {
     "data": {
      "text/plain": [
       "jupyter:cut or cut\n",
       "\n",
       "    Cuts off the choicepoints of the latest active query.\n",
       "\n",
       "    In general, the previous query is the active one.\n",
       "    However, the previous active query can be activated again.\n",
       "    This can be done by cutting off choicepoints with jupyter:cut/0.\n",
       "    This is also the case if a retry/0 encounters no further solutions.\n",
       "\n",
       "    A further retry/0 call causes backtracking of the previous active goal.\n",
       "\n",
       "    Needs to be the only goal of a query.\n",
       "\n",
       "--------------------------------------------------------------------------------\n",
       "\n",
       "jupyter:halt or halt\n",
       "\n",
       "    Shuts down the running Prolog process.\n",
       "\n",
       "    The next time code is to be executed, a new process is started.\n",
       "    Everything defined in the database before does not exist anymore.\n",
       "\n",
       "    Corresponds to the functionality of halt/0.\n",
       "    Has the same effect as interrupting or restarting the Jupyter kernel.\n",
       "\n",
       "--------------------------------------------------------------------------------\n",
       "\n",
       "jupyter:help\n",
       "\n",
       "    Outputs the documentation for all predicates from module jupyter.\n",
       "\n",
       "--------------------------------------------------------------------------------\n",
       "\n",
       "jupyter:print_query_time\n",
       "\n",
       "    Prints the latest previous query and its runtime in milliseconds.\n",
       "\n",
       "--------------------------------------------------------------------------------\n",
       "\n",
       "jupyter:print_queries(+Ids)\n",
       "\n",
       "    Prints previous queries which were executed in requests with IDs in Ids.\n",
       "\n",
       "    Any $Var terms might be replaced by the variable's name.\n",
       "    This is the case if a previous query with ID in Ids contains Var.\n",
       "    Otherwise, $Var is not replaced.\n",
       "\n",
       "--------------------------------------------------------------------------------\n",
       "\n",
       "jupyter:print_sld_tree(+Goal)\n",
       "\n",
       "    Executes the goal Goal and prints a graph resembling its SLD tree.\n",
       "\n",
       "    Needs to be the only goal of a query.\n",
       "\n",
       "--------------------------------------------------------------------------------\n",
       "\n",
       "jupyter:print_stack\n",
       "\n",
       "    Prints the current stack used for jupyter:retry/0 and jupyter:cut/0.\n",
       "    The active goal is marked by a preceding '->'.\n",
       "\n",
       "    Needs to be the only goal of a query.\n",
       "\n",
       "--------------------------------------------------------------------------------\n",
       "\n",
       "jupyter:print_table(+Goal)\n",
       "\n",
       "    Computes all results of the goal Goal with findall/3.\n",
       "    These are printed in a table.\n",
       "\n",
       "    Needs to be the only goal of a query.\n",
       "\n",
       "    Example: jupyter:print_table(prolog_flag(FlagName, Value)).\n",
       "\n",
       "--------------------------------------------------------------------------------\n",
       "\n",
       "jupyter:print_table(+ValuesLists, +VariableNames)\n",
       "\n",
       "    Prints a table of the values in ValuesLists.\n",
       "\n",
       "    ValuesLists is a list of lists of the same length.\n",
       "    Each list corresponds to one line of the table.\n",
       "\n",
       "    VariableNames is used to fill the header of the table.\n",
       "    If VariableNames=[], capital letters are used.\n",
       "    Otherwise, VariableNames needs to be a list of ground terms.\n",
       "    It needs to be of the same length as the values lists.\n",
       "\n",
       "    Needs to be the only goal of a query.\n",
       "\n",
       "    Can be used with a predicate like findall/3, but not directly.\n",
       "    Instead, a previous binding can be accessed with a $Var term.\n",
       "\n",
       "    Examples:\n",
       "        jupyter:print_table([[10,100],[20,400],[30,900]], ['X', 'Y']).\n",
       "        jupyter:print_table($ResultLists, []).\n",
       "\n",
       "--------------------------------------------------------------------------------\n",
       "\n",
       "jupyter:print_transition_graph(+PredSpec, +FromIndex, +ToIndex, +LabelIndex)\n",
       "\n",
       "    Finds all solutions of the predicate with specification PredSpec.\n",
       "    Prints a graph interpreting the solutions as transitions.\n",
       "\n",
       "    PredSpec needs to be of the form PredName/PredArity.\n",
       "    Optionally, it can be module name expanded.\n",
       "\n",
       "    FromIndex and ToIndex point to predicate arguments used as nodes.\n",
       "    LabelIndex points to the argument providing a label for an edge.\n",
       "    If LabelIndex=0, no label is shown.\n",
       "\n",
       "    Needs to be the only goal of a query.\n",
       "\n",
       "--------------------------------------------------------------------------------\n",
       "\n",
       "jupyter:print_variable_bindings\n",
       "\n",
       "    Prints variable bindings from previous queries.\n",
       "    For each variable, the latest value it was bound to is shown.\n",
       "\n",
       "    The variable value can be accessed with a $Var term by any query.\n",
       "    In that case, the term is replaced by the value.\n",
       "    If there is no previous value, an error message is printed.\n",
       "\n",
       "--------------------------------------------------------------------------------\n",
       "\n",
       "jupyter:retry or retry\n",
       "\n",
       "    Causes backtracking of the latest active query.\n",
       "\n",
       "    In general, the previous query is the active one.\n",
       "    However, the previous active query can be activated again.\n",
       "    This can be done by cutting off choicepoints with jupyter:cut/0.\n",
       "    This is also the case if a retry/0 encounters no further solutions.\n",
       "\n",
       "    Needs to be the only goal of a query.\n",
       "\n",
       "--------------------------------------------------------------------------------\n",
       "\n",
       "jupyter:set_prolog_impl(+PrologImplementationID)\n",
       "\n",
       "    Activates the Prolog implementation with ID PrologImplementationID.\n",
       "\n",
       "    Code in the same cell is executed with the previous implementation.\n",
       "\n",
       "    Needs to be the only goal of a query.\n",
       "\n",
       "--------------------------------------------------------------------------------\n",
       "\n",
       "jupyter:trace(+Goal)\n",
       "\n",
       "    Prints the trace of the goal Goal.\n",
       "\n",
       "    By default, no port is leashed so that no user interaction is requested.\n",
       "    All previously set breakpoints are still active.\n",
       "\n",
       "    Needs to be the only goal of a query in order to work as expected.\n",
       "\n",
       "--------------------------------------------------------------------------------\n",
       "\n",
       "jupyter:update_completion_data\n",
       "\n",
       "    Updates the predicate data used for code completion using Tab.\n",
       "\n",
       "    This is done by retrieving all built-in and exported predicates.\n",
       "    Needed to use completion for predicates from a newly loaded module.\n",
       "\n",
       "    Needs to be the only goal of a query."
      ]
     },
     "metadata": {},
     "output_type": "display_data"
    },
    {
     "data": {
      "text/plain": [
       "\u001b[1mtrue"
      ]
     },
     "metadata": {},
     "output_type": "display_data"
    }
   ],
   "source": [
    "jupyter:help"
   ]
  },
  {
   "cell_type": "code",
   "execution_count": 13,
   "id": "56534a01-ee3c-4768-a3e6-1a83e2ae04c3",
   "metadata": {
    "editable": true,
    "slideshow": {
     "slide_type": "slide"
    },
    "tags": []
   },
   "outputs": [
    {
     "data": {
      "text/html": [
       "\n",
       "            <style>\n",
       "            details  {\n",
       "              font-family: Menlo, Consolas, 'DejaVu Sans Mono', monospace; font-size: 13px;\n",
       "            }\n",
       "\n",
       "            details > summary {\n",
       "              cursor: pointer;\n",
       "            }\n",
       "            </style>\n",
       "            <details><summary>Previously defined clauses of user:lot_number_rule/2 were retracted (click to expand)</summary><pre>:- dynamic lot_number_rule/2.\n",
       "\n",
       "lot_number_rule(\"\", \"0\").\n",
       "lot_number_rule(A, \"INVALID\") :-\n",
       "    is_alphanumeric(A).\n",
       "lot_number_rule(A, B) :-\n",
       "    string_upper(A, B).\n",
       "</pre></details>"
      ],
      "text/plain": [
       "Previously defined clauses of user:lot_number_rule/2 were retracted:\n",
       ":- dynamic lot_number_rule/2.\n",
       "\n",
       "lot_number_rule(\"\", \"0\").\n",
       "lot_number_rule(A, \"INVALID\") :-\n",
       "    is_alphanumeric(A).\n",
       "lot_number_rule(A, B) :-\n",
       "    string_upper(A, B).\n"
      ]
     },
     "metadata": {
      "application/json": {}
     },
     "output_type": "display_data"
    },
    {
     "data": {
      "text/plain": [
       "% Asserting clauses for user:lot_number_rule/2\n"
      ]
     },
     "metadata": {},
     "output_type": "display_data"
    }
   ],
   "source": [
    "%%% LotNumber Rules\n",
    "% Rule 1.0: if LotNumber is empty string, then replace with char \"0\"\n",
    "lot_number_rule(\"\",\"0\").\n",
    "\n",
    "% Rule 1.1: if LotNumber is empty string, then replace with char \"0\"\n",
    "lot_number_rule(Li,\"INVALID\"):- \n",
    "    is_alphanumeric(Li).\n",
    "    \n",
    "% Default Rule: Lot Number is converted to uppercase and is not changed otherwise.\n",
    "lot_number_rule(Li,LI):- \n",
    "    string_upper(Li, LI)."
   ]
  },
  {
   "cell_type": "code",
   "execution_count": 19,
   "id": "b6357149-b4e9-4577-ae8f-de43521422b7",
   "metadata": {
    "editable": true,
    "slideshow": {
     "slide_type": "slide"
    },
    "tags": []
   },
   "outputs": [
    {
     "data": {
      "text/plain": [
       "% Asserting clauses for user:plan_type_rule/3\n"
      ]
     },
     "metadata": {},
     "output_type": "display_data"
    }
   ],
   "source": [
    "%%% PlanType rules\n",
    "\n",
    "% Rule 2.0: if PlanNumber is alpha Numeric and PlanType is \"CP\" then PlanType is set to empty string\n",
    "plan_type_rule(\"CP\",\"\",Ni):- \n",
    "    is_alphanumeric(Ni).\n",
    "\n",
    "% Rule 2.1: replace \"BPA\" with \"BUP\" plan type.\n",
    "plan_type_rule(\"BPA\",\"BUP\",_).\n",
    "\n",
    "% Rule 2.2: replace \"BRP\" with \"BUP\" plan type.\n",
    "plan_type_rule(\"BRP\",\"BUP\",_).\n",
    "\n",
    "% Rule 2.3: replace \"GRP\" with \"GTP\" plan type.\n",
    "plan_type_rule(\"GRP\",\"GTP\",_).\n",
    "\n",
    "% Rule 2.4: replace \"GTA\" with \"GTP\" plan type.\n",
    "plan_type_rule(\"GTA\",\"GTP\",_).\n",
    "\n",
    "% Default Rule: PlanNumber is converted to uppercase and not changed otherwise.\n",
    "plan_type_rule(Pi,PI,_):- \n",
    "    string_upper(Pi, PI)."
   ]
  },
  {
   "cell_type": "code",
   "execution_count": 20,
   "id": "865fd89a-f2cd-4211-989c-cdc1911ae79f",
   "metadata": {
    "editable": true,
    "slideshow": {
     "slide_type": "slide"
    },
    "tags": []
   },
   "outputs": [
    {
     "data": {
      "text/plain": [
       "% Asserting clauses for user:plan_number_rule/2\n"
      ]
     },
     "metadata": {},
     "output_type": "display_data"
    }
   ],
   "source": [
    "%%% Plan Number Rules\n",
    "\n",
    "% Default Rule 3.0: PlanNumber is converted to uppercase and not change otherwise.\n",
    "plan_number_rule(Ni,NI):-\n",
    "    without_punctuation(Ni, S),\n",
    "    string_upper(S, NI)."
   ]
  },
  {
   "cell_type": "code",
   "execution_count": 21,
   "id": "494c7022-bb93-477d-9f44-2fa2f85f76c5",
   "metadata": {
    "editable": true,
    "slideshow": {
     "slide_type": "slide"
    },
    "tags": []
   },
   "outputs": [
    {
     "data": {
      "text/plain": [
       "% Asserting clauses for user:is_alphanumeric/1\n"
      ]
     },
     "metadata": {},
     "output_type": "display_data"
    }
   ],
   "source": [
    "% Supporting Logic\n",
    "\n",
    "is_alphanumeric(S):-\n",
    "    string_chars(S,LC),\n",
    "    member(C,LC),\n",
    "    code_type(C, alpha), !,\n",
    "    member(N,LC),\n",
    "    code_type(N, digit), !."
   ]
  },
  {
   "cell_type": "code",
   "execution_count": 22,
   "id": "63e88562-8713-4628-b242-c3d112c7333e",
   "metadata": {
    "editable": true,
    "slideshow": {
     "slide_type": "slide"
    },
    "tags": []
   },
   "outputs": [
    {
     "data": {
      "text/plain": [
       "% Asserting clauses for user:without_punctuation/2\n"
      ]
     },
     "metadata": {},
     "output_type": "display_data"
    }
   ],
   "source": [
    "without_punctuation(Si,So):-\n",
    "    string_chars(Si, C),\n",
    "    subtract(C,['-','/','(','\\\\','.',':',';'], C0),\n",
    "    string_chars(So, C0)."
   ]
  },
  {
   "cell_type": "code",
   "execution_count": 23,
   "id": "ad659d41-d314-4372-a40f-490b1a355266",
   "metadata": {
    "editable": true,
    "slideshow": {
     "slide_type": "slide"
    },
    "tags": []
   },
   "outputs": [
    {
     "data": {
      "text/html": [
       "\n",
       "            <style>\n",
       "            details  {\n",
       "              font-family: Menlo, Consolas, 'DejaVu Sans Mono', monospace; font-size: 13px;\n",
       "            }\n",
       "\n",
       "            details > summary {\n",
       "              cursor: pointer;\n",
       "            }\n",
       "            </style>\n",
       "            <details><summary>Previously defined clauses of user:rules/6 were retracted (click to expand)</summary><pre>:- dynamic rules/6.\n",
       "\n",
       "rules(\"L1\", \"bup\", \"1/23\", \"INVALID\", \"BUP\", _).\n",
       "</pre></details>"
      ],
      "text/plain": [
       "Previously defined clauses of user:rules/6 were retracted:\n",
       ":- dynamic rules/6.\n",
       "\n",
       "rules(\"L1\", \"bup\", \"1/23\", \"INVALID\", \"BUP\", _).\n"
      ]
     },
     "metadata": {
      "application/json": {}
     },
     "output_type": "display_data"
    },
    {
     "data": {
      "text/plain": [
       "% Asserting clauses for user:rules/6\n"
      ]
     },
     "metadata": {},
     "output_type": "display_data"
    }
   ],
   "source": [
    "% Rules Engine implemented using Prolog\n",
    "%\n",
    "rules(Li,Pi,Ni,  Lo,Po,No):-\n",
    "    lot_number_rule(Li,Lo), \n",
    "    plan_type_rule(Pi,Po,Ni), \n",
    "    plan_number_rule(Ni,No)."
   ]
  },
  {
   "cell_type": "code",
   "execution_count": 31,
   "id": "aee4ee03-fddd-4804-b092-f9a29474c0dc",
   "metadata": {
    "tags": []
   },
   "outputs": [
    {
     "data": {
      "text/plain": [
       "\u001b[1mtrue"
      ]
     },
     "metadata": {},
     "output_type": "display_data"
    }
   ],
   "source": [
    "assertz(rules(\"L1\",\"bup\",\"1/23\",  \"INVALID\",\"BUP\",\"123\"))."
   ]
  },
  {
   "cell_type": "code",
   "execution_count": 32,
   "id": "8ecb9122-eb05-4d5a-ae45-35901429dc4e",
   "metadata": {
    "tags": []
   },
   "outputs": [
    {
     "data": {
      "text/plain": [
       "\u001b[1mtrue"
      ]
     },
     "metadata": {},
     "output_type": "display_data"
    }
   ],
   "source": [
    "assertz(rules(\"L\",\"bup\",\"1/23\",  \"L\",\"BUP\",\"123\"))."
   ]
  },
  {
   "cell_type": "code",
   "execution_count": 33,
   "id": "0e33620c-1463-4da2-99f6-f66f15211203",
   "metadata": {
    "tags": []
   },
   "outputs": [
    {
     "data": {
      "text/plain": [
       "\u001b[1mtrue"
      ]
     },
     "metadata": {},
     "output_type": "display_data"
    }
   ],
   "source": [
    "assertz(rules(\"1\",\"CP\",\"RP123\",  \"1\",\"\",\"RP123\"))."
   ]
  },
  {
   "cell_type": "code",
   "execution_count": null,
   "id": "d5908e6d-b735-49fd-992a-edf0b7ba2c90",
   "metadata": {},
   "outputs": [
    {
     "data": {
      "text/plain": [
       "\u001b[1;31mERROR: call/1: Unknown procedure: test_a/1\n"
      ]
     },
     "metadata": {},
     "output_type": "display_data"
    }
   ],
   "source": []
  },
  {
   "cell_type": "code",
   "execution_count": null,
   "id": "5c04e74d-4f99-4632-b536-82f0e4d83135",
   "metadata": {},
   "outputs": [
    {
     "data": {
      "text/plain": [
       "\u001b[1;31mERROR: call/1: Unknown procedure: test_a/1\n"
      ]
     },
     "metadata": {},
     "output_type": "display_data"
    }
   ],
   "source": []
  },
  {
   "cell_type": "code",
   "execution_count": null,
   "id": "e27c5701-6174-4abc-9474-7741d9ade3f7",
   "metadata": {},
   "outputs": [],
   "source": []
  }
 ],
 "metadata": {
  "kernelspec": {
   "display_name": "Prolog",
   "language": "prolog",
   "name": "prolog_kernel"
  },
  "language_info": {
   "codemirror_mode": "prolog",
   "file_extension": ".pl",
   "mimetype": "text/x-prolog",
   "name": "Prolog"
  }
 },
 "nbformat": 4,
 "nbformat_minor": 5
}
