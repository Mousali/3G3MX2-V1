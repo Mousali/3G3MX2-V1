{
 "cells": [
  {
   "cell_type": "markdown",
   "id": "391b33a2-11f7-4cdd-beed-34d5d20f3044",
   "metadata": {},
   "source": [
    "# OMRON MX2 Series Type V1 Paramater Calculations"
   ]
  },
  {
   "cell_type": "markdown",
   "id": "6b659a34-6c53-4283-8dad-21bea9192fb9",
   "metadata": {},
   "source": [
    "## Inverter Model Specifications"
   ]
  },
  {
   "cell_type": "code",
   "execution_count": null,
   "id": "35dfc6c7-de53-47dd-aacb-9649c90f00b8",
   "metadata": {
    "tags": [],
    "vscode": {
     "languageId": "prolog"
    }
   },
   "outputs": [],
   "source": [
    "% inverter Model\n",
    "inverter_Nameplate_model('3G3MX2-A4150-V1(Q2)').\n",
    "\n",
    "inverter_type(X) :-\n",
    "    inverter_Nameplate_model(S),\n",
    "    sub_string(S,13,2,_,X).\n",
    "\n",
    "inverter_maximum_motor_capacity_kw(X) :-\n",
    "    inverter_Nameplate_model(S),\n",
    "    sub_string(S,9,3,_,Ns),\n",
    "    number_string(N,Ns),\n",
    "    X is N/10.\n",
    "    \n",
    "inverter_voltage_class(SS,'3-phase 400 VAC (400-V class)') :-\n",
    "    inverter_Nameplate_model(S),\n",
    "    sub_string(S,8,1,_,SS).\n",
    "\n",
    "inverter_enclosure_rating('A','Panel-mounting (IP10 or higher) or closed wall-mounting models') :-\n",
    "    inverter_Nameplate_model(S),\n",
    "    sub_string(S,_,1,7,'A')."
   ]
  },
  {
   "cell_type": "markdown",
   "id": "44957a60-45d5-483f-a17b-55e150dc8e66",
   "metadata": {},
   "source": [
    "## Connected Preferals"
   ]
  },
  {
   "cell_type": "code",
   "execution_count": null,
   "id": "45202290-badd-4a06-bd45-3c596b922e20",
   "metadata": {
    "tags": [],
    "vscode": {
     "languageId": "prolog"
    }
   },
   "outputs": [],
   "source": [
    "volume_control_3G3AX_OP01(false):- !."
   ]
  },
  {
   "cell_type": "markdown",
   "id": "fe203b2e-92a5-4856-add5-c20331a6c186",
   "metadata": {},
   "source": [
    "## Motor Paramators"
   ]
  },
  {
   "cell_type": "code",
   "execution_count": null,
   "id": "c22bd9ba-6e6a-4c53-b9f2-de0d5308d910",
   "metadata": {
    "tags": [],
    "vscode": {
     "languageId": "prolog"
    }
   },
   "outputs": [],
   "source": [
    "% first motor parameters\n",
    "\n",
    "motor1_base_operating_frequency(400).\n",
    "motor1_maximum_operating_frequency(400).\n",
    "\n",
    "% second motor parameters\n",
    "\n",
    "motor2_base_operating_frequency(400).\n",
    "motor2_maximum_operating_frequency(400)."
   ]
  },
  {
   "cell_type": "markdown",
   "id": "4588eb7a-5018-4fc4-b415-6d7d6fbc7e77",
   "metadata": {},
   "source": [
    "## Operational Settings"
   ]
  },
  {
   "cell_type": "code",
   "execution_count": null,
   "id": "76a13596-c1b1-4d7b-9582-86b21a7b999b",
   "metadata": {
    "tags": [],
    "vscode": {
     "languageId": "prolog"
    }
   },
   "outputs": [],
   "source": [
    "% 1st motor Frequency Reference Selection\n",
    "%motor1_operation_speed_control_source('Digital Operator (Volume)').\n",
    "%motor1_operation_speed_control_source('Control circuit terminal block (Analog input)').\n",
    "motor1_operation_speed_control_source('voltage (FV)').\n",
    "%motor1_operation_speed_control_source('current (FI)').\n",
    "%motor1_operation_speed_control_source('Digital Operator (F001)').\n",
    "%motor1_operation_speed_control_source('Modbus communication').\n",
    "%motor1_operation_speed_control_source('Option').\n",
    "%motor1_operation_speed_control_source('Pulse train frequency').\n",
    "%motor1_operation_speed_control_source('DriveProgramming').\n",
    "%motor1_operation_speed_control_source('Operation function output').\n",
    "\n",
    "% 1st RUN Command Selection\n",
    "%motor1_run_command_source('Control terminal block (Drive-Programming)').\n",
    "motor1_run_command_source('Digital Operator').\n",
    "%motor1_run_command_source('Modbus communication').\n",
    "%motor1_run_command_source('Option').\n",
    "\n",
    "% 2nd motor Frequency Reference Selection\n",
    "%motor2_operation_speed_control_source('Digital Operator (Volume)').\n",
    "%motor2_operation_speed_control_source('Control circuit terminal block (Analog input)').\n",
    "%motor2_operation_speed_control_source('voltage (FV)').\n",
    "%motor2_operation_speed_control_source('current (FI)').\n",
    "%motor2_operation_speed_control_source('Digital Operator (F001)').\n",
    "%motor2_operation_speed_control_source('Modbus communication').\n",
    "%motor2_operation_speed_control_source('Option').\n",
    "%motor2_operation_speed_control_source('Pulse train frequency').\n",
    "%motor2_operation_speed_control_source('DriveProgramming').\n",
    "%motor2_operation_speed_control_source('Operation function output').\n",
    "\n",
    "% 2nd RUN Command Selection\n",
    "%motor2_run_command_source('Control terminal block (Drive-Programming)').\n",
    "%motor2_run_command_source('Digital Operator').\n",
    "%motor2_run_command_source('Modbus communication').\n",
    "%motor2_run_command_source('Option').\n",
    "\n",
    "% Heavy Load/Light Load Selection\n",
    "load_mode('Heavy (CT)').\n",
    "%load_mode('Light (VT)').\n",
    "\n",
    "% Inverter Mode Selection\n",
    "inverter_mode('Disabled').\n",
    "%inverter_mode('Induction motor').\n",
    "%inverter_mode('Induction motor high-frequency').\n",
    "%inverter_mode('PM motor').\n",
    "\n",
    "% Torque Limit\n",
    "%torque_limit('disabled').\n",
    "torque_limit('200% with an input of 10V').\n",
    "\n",
    "% Analog Input Filter for FV and FI (Millisecond) window\n",
    "analog_input_filter_ms(16).\n",
    "%analog_input_filter_ms('Fixed to 500-ms filter with ±0.1-Hz hysteresis')."
   ]
  },
  {
   "cell_type": "markdown",
   "id": "fae4bdce-2eef-4f7c-9d49-9d15363295a1",
   "metadata": {
    "tags": []
   },
   "source": [
    "### Frequency control profile\n",
    "\n",
    "```text\n",
    "\n",
    "   example frequency response with f0=f1Hz                  \n",
    "\n",
    "    |                                                      \n",
    " f2 +--------------------------------+                     \n",
    "    |                    /|          |                     \n",
    "    |                   / |          |                     \n",
    "    |                  /  |          |                     \n",
    "    |                 /   |          |                     \n",
    "    |                /    |          |                     \n",
    "    |               /     |          |                     \n",
    "    |              /      |          |                     \n",
    "    |             /       |          |                     \n",
    "    |            /        |          |                     \n",
    "    |           /         |          |                     \n",
    "    |          /          |          |                     \n",
    " f1 |         /           |          |                     \n",
    " f0 +--------|            |          |                     \n",
    "    |        |            |          |                     \n",
    "    |        |            |          |                     \n",
    "    |        |            |          |                     \n",
    "    |--------|------------|----------|-------              \n",
    "    0%      i0          i1           100%                  \n",
    "    0mA                              10V                   \n",
    "    VR min                           20mA                  \n",
    "                                     VR max               \n",
    "                                     \n",
    "   example frequency response with f0=0Hz                  \n",
    "   \n",
    "    |                                                      \n",
    "    |                                                      \n",
    " f2 +--------------------------------+                     \n",
    "    |                    /|          |                     \n",
    "    |                   / |          |                     \n",
    "    |                  /  |          |                     \n",
    "    |                 /   |          |                     \n",
    "    |                /    |          |                     \n",
    "    |               /     |          |                     \n",
    "    |              /      |          |                     \n",
    "    |             /       |          |                     \n",
    "    |            /        |          |                     \n",
    "    |           /         |          |                     \n",
    "    |          /          |          |                     \n",
    "    |         /           |          |                     \n",
    "    |        /            |          |                     \n",
    " f1 +-------/             |          |                     \n",
    "    |       |             |          |                     \n",
    "    |       |             |          |                     \n",
    " f0 +-------|-------------|----------|-------              \n",
    "    0%      i0           i1          100%                  \n",
    "    0mA                              10V                   \n",
    "    VR min                           20mA                  \n",
    "                                     VR max                \n",
    "\n",
    "plot created using https://textik.com/\n",
    "```"
   ]
  },
  {
   "cell_type": "code",
   "execution_count": null,
   "id": "7c67ef20-2878-48d4-a438-707db7adf7c1",
   "metadata": {
    "tags": [],
    "vscode": {
     "languageId": "prolog"
    }
   },
   "outputs": [],
   "source": [
    "% starting frequency for a % of an input control signal 0V/0mA/VRmin\n",
    "\n",
    "f0_at_0(0). % f0 must = 0 or f1\n",
    "f1_at_i0(60,10).\n",
    "f2_at_i1(350,90)."
   ]
  },
  {
   "cell_type": "markdown",
   "id": "c0c7ef11-ece0-4f25-811c-056e5f54f0da",
   "metadata": {},
   "source": [
    "## Muti-function Input Terminal"
   ]
  },
  {
   "cell_type": "code",
   "execution_count": null,
   "id": "06079a99-ffea-412f-9b6f-f62c571f1400",
   "metadata": {
    "tags": [],
    "vscode": {
     "languageId": "prolog"
    }
   },
   "outputs": [],
   "source": [
    "% default\n",
    "s1_input_function('FW (Forward)').\n",
    "s1_normally_open(true).\n",
    "s2_input_function('RV (Reverse)').\n",
    "s2_normally_open(true).\n",
    "s3_input_function('RS (Reset)').\n",
    "s3_normally_open(true).\n",
    "s4_input_function('EXT (External trip)').\n",
    "s4_normally_open(true).\n",
    "s5_input_function('CF1 (Multi-step speed setting binary 1)').\n",
    "s5_normally_open(true).\n",
    "s6_input_function('CF2 (Multi-step speed setting binary 2)').\n",
    "s6_normally_open(true).\n",
    "s7_input_function('JG (Jogging)').\n",
    "s7_normally_open(true)."
   ]
  },
  {
   "cell_type": "markdown",
   "id": "b4769af5-b40c-442f-acd6-90884d8d0ab4",
   "metadata": {
    "tags": []
   },
   "source": [
    "## Multi-step Speed Operation Function"
   ]
  },
  {
   "cell_type": "code",
   "execution_count": null,
   "id": "f365f5fc-58a8-4e25-b1a0-435f6bc95dbd",
   "metadata": {
    "tags": [],
    "vscode": {
     "languageId": "prolog"
    }
   },
   "outputs": [],
   "source": [
    "multi_step_speed_mode('disabled').\n",
    "%multi_step_speed_mode('Binary (16-step selection with 4 terminals)').\n",
    "%multi_step_speed_mode('Bit (8-step selection with 7 terminals)').\n",
    "\n",
    "% only 4 bits 1 to 4 are used in binary mode. \n",
    "%s1_input_function('Multi-step speed setting binary', 1).\n",
    "%s2_input_function('Multi-step speed setting binary', 2).\n",
    "%s3_input_function('Multi-step speed setting binary', 3).\n",
    "%s4_input_function('Multi-step speed setting binary', 4).\n",
    "\n",
    "%s1_input_function('Multi-step speed setting bit', 1).\n",
    "%s2_input_function('Multi-step speed setting bit', 2).\n",
    "%s3_input_function('Multi-step speed setting bit', 3).\n",
    "%s4_input_function('Multi-step speed setting bit', 4).\n",
    "%s5_input_function('Multi-step speed setting bit', 5).\n",
    "%s6_input_function('Multi-step speed setting bit', 6).\n",
    "%s7_input_function('Multi-step speed setting bit', 7).\n",
    "\n",
    "multi_step_speed_1st_reference(0). % set start frequency\n",
    "% 1st_multi_step_speed_reference('Control circuit terminal block: Analog input'). % start frequency set with analog input\n",
    "multi_step_speed_2nd_reference(0). % set start frequency\n",
    "% 2nd_multi_step_speed_reference('Control circuit terminal block: Analog input'). % start frequency set with analog input\n",
    "\n",
    "multi_step_speed_reference_1(0).\n",
    "multi_step_speed_reference_2(0).\n",
    "multi_step_speed_reference_3(0).\n",
    "multi_step_speed_reference_4(0).\n",
    "multi_step_speed_reference_5(0).\n",
    "multi_step_speed_reference_6(0).\n",
    "multi_step_speed_reference_7(0).\n",
    "multi_step_speed_reference_8(0).\n",
    "multi_step_speed_reference_9(0).\n",
    "multi_step_speed_reference_10(0).\n",
    "multi_step_speed_reference_11(0).\n",
    "multi_step_speed_reference_12(0).\n",
    "multi_step_speed_reference_13(0).\n",
    "multi_step_speed_reference_14(0).\n",
    "multi_step_speed_reference_15(0)."
   ]
  },
  {
   "cell_type": "markdown",
   "id": "b8192e53-9cdb-4eb5-8c3d-036bd63146bb",
   "metadata": {},
   "source": [
    "## Inverter Resulting functions"
   ]
  },
  {
   "cell_type": "code",
   "execution_count": null,
   "id": "513aadec-35ae-441b-a063-1ec57c000033",
   "metadata": {
    "tags": [],
    "vscode": {
     "languageId": "prolog"
    }
   },
   "outputs": [],
   "source": [
    "% Output frequency reference value source\n",
    "output_frequency_source('FV+FI') :-\n",
    "    \\+(\n",
    "        s1_input_function('AT (Analog input switching)');\n",
    "        s2_input_function('AT (Analog input switching)');\n",
    "        s3_input_function('AT (Analog input switching)');\n",
    "        s4_input_function('AT (Analog input switching)');\n",
    "        s5_input_function('AT (Analog input switching)');\n",
    "        s6_input_function('AT (Analog input switching)');\n",
    "        s7_input_function('AT (Analog input switching)')\n",
    "    )."
   ]
  },
  {
   "cell_type": "markdown",
   "id": "708b6624-ff21-4755-b9fa-74b5aa3defda",
   "metadata": {
    "tags": []
   },
   "source": [
    "## Helper functions"
   ]
  },
  {
   "cell_type": "code",
   "execution_count": null,
   "id": "341e3e32-9d5f-4acd-b199-064a19d68fcb",
   "metadata": {
    "tags": [],
    "vscode": {
     "languageId": "prolog"
    }
   },
   "outputs": [],
   "source": [
    "% Output frequency reference value source\n",
    "output_frequency_source('FV+FI') :-\n",
    "    \\+(\n",
    "        s1_input_function('AT (Analog input switching)');\n",
    "        s2_input_function('AT (Analog input switching)');\n",
    "        s3_input_function('AT (Analog input switching)');\n",
    "        s4_input_function('AT (Analog input switching)');\n",
    "        s5_input_function('AT (Analog input switching)');\n",
    "        s6_input_function('AT (Analog input switching)');\n",
    "        s7_input_function('AT (Analog input switching)')\n",
    "      ).\n",
    "    \n",
    "\n",
    "% input function\n",
    "code_function('00','FW (Forward)').\n",
    "code_function('01','RV (Reverse)').\n",
    "code_function('02','CF1 (Multi-step speed setting binary 1)').\n",
    "code_function('03','CF2 (Multi-step speed setting binary 2)').\n",
    "code_function('04','CF3 (Multi-step speed setting binary 3)').\n",
    "code_function('05','CF4 (Multi-step speed setting binary 4)').\n",
    "code_function('06','JG (Jogging)').\n",
    "code_function('07','DB (External DC injection braking)').\n",
    "code_function('08','SET (2nd control)').\n",
    "code_function('09','2CH (2-step acceleration/deceleration)').\n",
    "code_function('11','FRS (Free-run stop)').\n",
    "code_function('12','EXT (External trip)').\n",
    "code_function('13','USP (Power recovery restart prevention function)').\n",
    "code_function('14','CS (Commercial switching)').\n",
    "code_function('15','SFT (Soft lock)').\n",
    "code_function('16','AT (Analog input switching)').\n",
    "code_function('18','RS (Reset)').\n",
    "code_function('19','TH (PTC thermistor thermal protection, C005 only)').\n",
    "code_function('20','STA (3-wire start)').\n",
    "code_function('21','STP (3-wire stop)').\n",
    "code_function('22','F/R (3-wire forward/reverse)').\n",
    "code_function('23','PID (PID disabled)').\n",
    "code_function('24','PIDC (PID integral reset)').\n",
    "code_function('27','UP (Remote operation accelerated)').\n",
    "code_function('28','DWN (Remote operation decelerated)').\n",
    "code_function('29','UDC (Remote operation data clear)').\n",
    "code_function('31','OPE (Forced operator function)').\n",
    "code_function('32','SF1 (Multi-step speed setting bit 1)').\n",
    "code_function('33','SF2 (Multi-step speed setting bit 2)').\n",
    "code_function('34','SF3 (Multi-step speed setting bit 3)').\n",
    "code_function('35','SF4 (Multi-step speed setting bit 4)').\n",
    "code_function('36','SF5 (Multi-step speed setting bit 5)').\n",
    "code_function('37','SF6 (Multi-step speed setting bit 6)').\n",
    "code_function('38','SF7 (Multi-step speed setting bit 7)').\n",
    "code_function('39','OLR (Overload limit switching)').\n",
    "code_function('40','TL (Torque limit enabled)').\n",
    "code_function('41','TRQ1 (Torque limit switching 1)').\n",
    "code_function('42','TRQ2 (Torque limit switching 2)').\n",
    "code_function('44','BOK (Brake confirmation)').\n",
    "code_function('46','LAC (LAD cancel)').\n",
    "code_function('47','PCLR (Current position clear)').\n",
    "code_function('50','ADD (Set frequency A145 addition)').\n",
    "code_function('51','F-TM (Forced terminal block)').\n",
    "code_function('52','ATR (Torque command input permission)').\n",
    "code_function('53','KHC (Integrated power clear)').\n",
    "code_function('56','MI1 (General-purpose input 1)').\n",
    "code_function('57','MI2 (General-purpose input 2)').\n",
    "code_function('58','MI3 (General-purpose input 3)').\n",
    "code_function('59','MI4 (General-purpose input 4)').\n",
    "code_function('60','MI5 (General-purpose input 5)').\n",
    "code_function('61','MI6 (General-purpose input 6)').\n",
    "code_function('62','MI7 (General-purpose input 7)').\n",
    "code_function('65','AHD (Analog command held)').\n",
    "code_function('66','CP1 (Position command selection 1)').\n",
    "code_function('67','CP2 (Position command selection 2)').\n",
    "code_function('68','CP3 (Position command selection 3)').\n",
    "code_function('69','ORL (Origin search limit signal)').\n",
    "code_function('70','ORG (Origin search startup signal)').\n",
    "code_function('73','SPD (Speed/Position switching)').\n",
    "code_function('77','GS1 (GS1 input, C003 only)').\n",
    "code_function('78','GS2 (GS2 input, C004 only)').\n",
    "code_function('81','485 (Start co-inverter communication)').\n",
    "code_function('82','PRG (DriveProgramming start)').\n",
    "code_function('83','HLD (Retain output frequency)').\n",
    "code_function('84','ROK (Permission of RUN command)').\n",
    "code_function('85','EB (Rotation direction detection, C007 only)').\n",
    "code_function('86','DISP (Display fixed)').\n",
    "code_function('91','PSET (Preset position)').\n",
    "code_function('255','no (No allocation)').\n",
    "\n",
    "% output function\n",
    "\n",
    "code_function('00','RUN (Signal during RUN)').\n",
    "code_function('01','FA1 (Constant speed arrival signal)').\n",
    "code_function('02','FA2 (Set frequency exceeded signal)').\n",
    "code_function('03','OL (Overload warning)').\n",
    "code_function('04','OD (Excessive PID deviation)').\n",
    "code_function('05','AL (Alarm signal)').\n",
    "code_function('06','FA3 (Set-frequency only signal)').\n",
    "code_function('07','OTQ (Overtorque/Undertorque signal)').\n",
    "code_function('09','UV (Signal during undervoltage)').\n",
    "code_function('10','TRQ (Torque limit)').\n",
    "code_function('11','RNT (RUN time over)').\n",
    "code_function('12','ONT (Power ON time over)').\n",
    "code_function('13','THM (Electronic thermal warning)').\n",
    "code_function('19','BRK (Brake release)').\n",
    "code_function('20','BER (Brake error)').\n",
    "code_function('21','ZS (0-Hz detection signal)').\n",
    "code_function('22','DSE (Excessive speed deviation)').\n",
    "code_function('23','POK (Position ready)').\n",
    "code_function('24','FA4 (Set frequency exceeded signal 2)').\n",
    "code_function('25','FA5 (Set-frequency only signal 2)').\n",
    "code_function('26','OL2 (Overload warning 2)').\n",
    "code_function('27','FVDc (Analog FV disconnection detection)').\n",
    "code_function('28','FIDc (Analog FI disconnection detection)').\n",
    "code_function('31','FBV (PID feedback comparison signal)').\n",
    "code_function('32','NDc (Communications disconnectiondetection)').\n",
    "code_function('33','LOG1 (Logic operation output 1)').\n",
    "code_function('34','LOG2 (Logic operation output 2)').\n",
    "code_function('35','LOG3 (Logic operation output 3)').\n",
    "code_function('39','WAC (Capacitor life warning signal)').\n",
    "code_function('40','WAF (Cooling fan life warning signal)').\n",
    "code_function('41','FR (Starting contact signal)').\n",
    "code_function('42','OHF (Cooling fin overheat warning)').\n",
    "code_function('43','LOC (Low current signal)').\n",
    "code_function('44','MO1 (General-purpose output 1)').\n",
    "code_function('45','MO2 (General-purpose output 2)').\n",
    "code_function('46','MO3 (General-purpose output 3)').\n",
    "code_function('50','IRDY (Operation ready)').\n",
    "code_function('51','FWR (Forward run signal)').\n",
    "code_function('52','RVR (Reverse run signal)').\n",
    "code_function('53','MJA (Fatal fault signal)').\n",
    "code_function('54','WCFV (Window comparator FV)').\n",
    "code_function('55','WCFI (Window comparator FI)').\n",
    "code_function('58','FREF (Frequency reference source)').\n",
    "code_function('59','REF (RUN command source)').\n",
    "code_function('60','SETM (Motor 2 selection)').\n",
    "code_function('62','EDM (Safety device monitor)*1').\n",
    "code_function('63','OPO (Option)').\n",
    "code_function('255','no (No allocation)')."
   ]
  },
  {
   "cell_type": "markdown",
   "id": "2e9919ed-18e3-41fd-b77e-335143b125de",
   "metadata": {
    "tags": []
   },
   "source": [
    "## Parameter List"
   ]
  },
  {
   "cell_type": "markdown",
   "id": "821af91b-2a6a-4068-a3c5-7e3b6b728ee4",
   "metadata": {
    "tags": []
   },
   "source": [
    "### Group A: Standard Function Parameters"
   ]
  },
  {
   "cell_type": "code",
   "execution_count": null,
   "id": "9d8eec26-8274-434f-b6ef-d166db7f4e8b",
   "metadata": {
    "tags": [],
    "vscode": {
     "languageId": "prolog"
    }
   },
   "outputs": [],
   "source": [
    "a001('00') :- \n",
    "    motor1_operation_speed_control_source('Digital Operator (Volume)'),\n",
    "    volume_control('3G3AX-OP01').\n",
    "\n",
    "a001('01') :- \n",
    "    motor1_operation_speed_control_source('Control circuit terminal block (Analog input)').\n",
    "\n",
    "a001('01') :- \n",
    "    motor1_operation_speed_control_source('voltage (FV)').\n",
    "\n",
    "a001('01') :- \n",
    "    motor1_operation_speed_control_source('current (FI)').\n",
    "\n",
    "a001('02') :- \n",
    "    motor1_operation_speed_control_source('Digital Operator (F001)').\n",
    "\n",
    "a001('03') :- \n",
    "    motor1_operation_speed_control_source('Modbus communication').\n",
    "\n",
    "a001('04') :- \n",
    "    motor1_operation_speed_control_source('Option').\n",
    "\n",
    "a001('06') :- \n",
    "    motor1_operation_speed_control_source('Pulse train frequency').\n",
    "\n",
    "a001('07') :- \n",
    "    motor1_operation_speed_control_source('DriveProgramming').\n",
    "\n",
    "a001('10') :- \n",
    "    motor1_operation_speed_control_source('Operation function output').\n",
    "\n",
    "% A201\n",
    "a201('00') :- \n",
    "    motor2_operation_speed_control_source('Digital Operator (Volume)'),\n",
    "    volume_control('3G3AX-OP01').\n",
    "\n",
    "a201('01') :- \n",
    "    motor2_operation_speed_control_source('Control circuit terminal block (Analog input)').\n",
    "\n",
    "a201('01') :- \n",
    "    motor2_operation_speed_control_source('voltage (FV)').\n",
    "\n",
    "a201('01') :- \n",
    "    motor2_operation_speed_control_source('current (FI)').\n",
    "\n",
    "a201('02') :- \n",
    "    motor2_operation_speed_control_source('Digital Operator (F001)').\n",
    "\n",
    "a201('03') :- \n",
    "    motor2_operation_speed_control_source('Modbus communication').\n",
    "\n",
    "a201('04') :- \n",
    "    motor2_operation_speed_control_source('Option').\n",
    "\n",
    "a201('06') :- \n",
    "    motor2_operation_speed_control_source('Pulse train frequency').\n",
    "\n",
    "a201('07') :- \n",
    "    motor2_operation_speed_control_source('DriveProgramming').\n",
    "\n",
    "a201('10') :- \n",
    "    motor1_operation_speed_control_source('Operation function output').\n",
    "\n",
    "% A002 1st RUN Command Selection\n",
    "a002('01') :- \n",
    "    motor1_run_command_source('Control terminal block (Drive-Programming)').\n",
    "\n",
    "a002('02') :- \n",
    "    motor1_run_command_source('Digital Operator').\n",
    "\n",
    "a002('03') :- \n",
    "    motor1_run_command_source('Modbus communication').\n",
    "\n",
    "a002('04') :- \n",
    "    motor1_run_command_source('Option').\n",
    "\n",
    "% A202 2st RUN Command Selection\n",
    "a202('01') :- \n",
    "    motor2_run_command_source('Control terminal block (Drive-Programming)').\n",
    "\n",
    "a202('02') :- \n",
    "    motor2_run_command_source('Digital Operator').\n",
    "\n",
    "a202('03') :- \n",
    "    motor2_run_command_source('Modbus communication').\n",
    "\n",
    "a202('04') :- \n",
    "    motor2_run_command_source('Option').\n",
    "\n",
    "% A003\n",
    "a003(X) :- \n",
    "    motor1_base_operating_frequency(X),\n",
    "    X >= 30,\n",
    "    a004(Y),\n",
    "    X =< Y.\n",
    "\n",
    "a203(X) :- \n",
    "    motor2_base_operating_frequency(X),\n",
    "    X >= 30,\n",
    "    a204(Y),\n",
    "    X =< Y.\n",
    "\n",
    "% motor maximum operating frequency\n",
    "a004(X) :- \n",
    "    motor1_maximum_operating_frequency(X),\n",
    "    X =< 400,\n",
    "    not(inverter_mode('Induction motor high-frequency')).\n",
    "    \n",
    "a004(X) :- \n",
    "    motor1_maximum_operating_frequency(X),\n",
    "    X =< 580,\n",
    "    inverter_mode('Induction motor high-frequency').\n",
    "    \n",
    "a204(X) :- \n",
    "    motor2_maximum_operating_frequency(X),\n",
    "    X =< 400,\n",
    "    not(inverter_mode('Induction motor high-frequency')).\n",
    "    \n",
    "a204(X) :- \n",
    "    motor2_maximum_operating_frequency(X),\n",
    "    X =< 580,\n",
    "    inverter_mode('Induction motor high-frequency').\n",
    "    \n",
    "% A005 FV/FI Selection\n",
    "% Switch between FV (Voltage) and FI (Current)\n",
    "a005('00') :-\n",
    "    motor1_operation_speed_control_source('voltage (FV)').\n",
    "\n",
    "a005('00') :-\n",
    "    motor1_operation_speed_control_source('current (FI)').\n",
    "    \n",
    "% Switch between FV (Voltage) and volume\n",
    "a005('02') :-\n",
    "    volume_control_3G3AX_OP01(true),\n",
    "    motor1_operation_speed_control_source('voltage (FV)').\n",
    "    \n",
    "a005('02') :-\n",
    "    volume_control_3G3AX_OP01(true),\n",
    "    motor1_operation_speed_control_source('Digital Operator (Volume)').\n",
    "    \n",
    "% 'witch between FI (Current) and volume\n",
    "a005('03') :-\n",
    "    volume_control_3G3AX_OP01(true),\n",
    "    motor1_operation_speed_control_source('current (FI)').\n",
    "\n",
    "a005('03') :-\n",
    "    volume_control_3G3AX_OP01(true),\n",
    "    motor1_operation_speed_control_source('Digital Operator (Volume)').\n",
    "\n",
    "a141('02') :- \n",
    "    motor1_speed_control_method('voltage').\n",
    "    \n",
    "a141('03') :- \n",
    "    motor1_speed_control_method('current').\n",
    "\n",
    "\n",
    "a011(F1) :-\n",
    "    a003(A003),\n",
    "    f1_at_i0(F1,_),\n",
    "    F1 =< A003.\n",
    "\n",
    "\n",
    "a101(F1) :-\n",
    "    a003(A003),\n",
    "    f1_at_i0(F1,_),\n",
    "    F1 =< A003.\n",
    "\n",
    "a161(F1) :-\n",
    "    a003(A003),\n",
    "    f1_at_i0(F1,_),\n",
    "    F1 =< A003.\n",
    "\n",
    "a012(F2) :-\n",
    "    a003(A003),\n",
    "    f2_at_i1(F2,_),\n",
    "    F2 =< A003.\n",
    "\n",
    "a102(F2) :-\n",
    "    a003(A003),\n",
    "    f2_at_i1(F2,_),\n",
    "    F2 =< A003.\n",
    "\n",
    "a162(F2) :-\n",
    "    a003(A003),\n",
    "    f2_at_i1(F2,_),\n",
    "    F2 =< A003.\n",
    "\n",
    "a013(I0) :-\n",
    "    f1_at_i0(_,I0),\n",
    "    f2_at_i1(_,I1),\n",
    "    I0 < I1.\n",
    "    \n",
    "a103(I0) :-\n",
    "    f1_at_i0(_,I0),\n",
    "    f2_at_i1(_,I1),\n",
    "    I0 < I1.\n",
    "\n",
    "a163(I0) :-\n",
    "    f1_at_i0(_,I0),\n",
    "    f2_at_i1(_,I1),\n",
    "    I0 < I1.\n",
    "\n",
    "a014(I1) :-\n",
    "    f1_at_i0(_,I0),\n",
    "    f2_at_i1(_,I1),\n",
    "    I0 < I1.\n",
    "    \n",
    "a104(I1) :-\n",
    "    f1_at_i0(_,I0),\n",
    "    f2_at_i1(_,I1),\n",
    "    I0 < I1.\n",
    "\n",
    "a164(I1) :-\n",
    "    f1_at_i0(_,I0),\n",
    "    f2_at_i1(_,I1),\n",
    "    I0 < I1.\n",
    "\n",
    "a015('00') :-\n",
    "    f0_at_0(0).\n",
    "    \n",
    "a015('01') :-\n",
    "    f0_at_0(F0),\n",
    "    f1_at_i0(F0,_),\n",
    "    F0 > 0.\n",
    "\n",
    "a016('31') :-\n",
    "    % TODO: must not be using PID function\n",
    "    analog_input_filter_ms('Fixed to 500-ms filter with ±0.1-Hz hysteresis');\n",
    "    (\n",
    "        analog_input_filter_ms(Y), \n",
    "        Y >= 62\n",
    "    ).\n",
    "\n",
    "%volume_control_3G3AX_OP01(false).\n",
    "\n",
    "a016(X) :-\n",
    "    analog_input_filter_ms(Y),\n",
    "    Y =< 61,\n",
    "    X is div(Y,2).\n",
    "\n",
    "%a017('00') :-\n",
    "    % DriveProgramming Function Parameters are not covered. \n",
    "    % 01: Enabled (Start/stop via multifunction\n",
    "    % input PRG terminal)\n",
    "    % 02: Enabled (Start/stop via power\n",
    "    % on/off)\n",
    "\n",
    "% Multi-step speed, jogging\n",
    "%a019('00') :-\n",
    "%    'Binary (16-step selection with 4 terminals)'\n",
    "%a019('00') :-\n",
    "%    'Bit (8-step selection with 7 terminals)'"
   ]
  },
  {
   "cell_type": "markdown",
   "id": "cc4ba05e-1435-4bad-a22c-0b18d7deb712",
   "metadata": {},
   "source": [
    "### Group b: Detailed Function Parameters"
   ]
  },
  {
   "cell_type": "code",
   "execution_count": null,
   "id": "f6c7efe3-20de-4fb0-acfe-18c562785d63",
   "metadata": {
    "tags": [],
    "vscode": {
     "languageId": "prolog"
    }
   },
   "outputs": [],
   "source": [
    "b040('00') :-\n",
    "    torque_limit('disabled').\n",
    "\n",
    "b040('02') :-\n",
    "    torque_limit('200% with an input of 10V').\n",
    "\n",
    "% b049 Heavy Load/Light Load Selection\n",
    "b049('00') :- \n",
    "    load_mode('Heavy (CT)').\n",
    "\n",
    "b049('01') :- \n",
    "    load_mode('Light (VT)').\n",
    "\n",
    "% b171 Inverter Mode Selection\n",
    "b171('00') :-\n",
    "    inverter_mode('Disabled').\n",
    "\n",
    "b171('00') :-\n",
    "    inverter_mode('Induction motor').\n",
    "\n",
    "b171('02') :-\n",
    "    inverter_mode('Induction motor high-frequency').\n",
    "\n",
    "b171('03') :-\n",
    "    inverter_mode('PM motor').\n",
    "\n",
    "% b180 Initialization Execution Need to trigger change on change of b049 and b171\n",
    "% 00: Function disabled\n",
    "% 01: Execute initialization"
   ]
  },
  {
   "cell_type": "markdown",
   "id": "3df8b63c-8844-4e29-8256-a51ac77bc6c3",
   "metadata": {},
   "source": [
    "### Group C: Multi-function Terminal Function Parameters"
   ]
  },
  {
   "cell_type": "code",
   "execution_count": null,
   "id": "7043cc66-d437-41f7-8238-7eee647f3280",
   "metadata": {
    "tags": [],
    "vscode": {
     "languageId": "prolog"
    }
   },
   "outputs": [],
   "source": [
    "c001(X) :- \n",
    "    multi_step_speed_mode('Binary (16-step selection with 4 terminals)'),\n",
    "    s1_input_function('Multi-step speed setting binary', B),\n",
    "    re_replace(,B,'CFX (Multi-step speed setting binary X)',S),\n",
    "    code_function(X,S),\n",
    "    \n",
    "    s2_input_function('Multi-step speed setting binary', 2),\n",
    "    s3_input_function('Multi-step speed setting binary', 3),\n",
    "    s4_input_function('Multi-step speed setting binary', 4),\n",
    "    code_function('03','CF2 (Multi-step speed setting binary 2)'),\n",
    "    code_function('04','CF3 (Multi-step speed setting binary 3)'),\n",
    "    code_function('05','CF4 (Multi-step speed setting binary 4)'),\n",
    "\n",
    "\n",
    "multi_step_speed_mode('Bit (8-step selection with 7 terminals)').\n",
    "s1_input_function('Multi-step speed setting bit', 1).\n",
    "s2_input_function('Multi-step speed setting bit', 2).\n",
    "s3_input_function('Multi-step speed setting bit', 3).\n",
    "s4_input_function('Multi-step speed setting bit', 4).\n",
    "s5_input_function('Multi-step speed setting bit', 5).\n",
    "s6_input_function('Multi-step speed setting bit', 6).\n",
    "s7_input_function('Multi-step speed setting bit', 7).\n",
    "\n",
    "code_function('32','SF1 (Multi-step speed setting bit 1)').\n",
    "code_function('33','SF2 (Multi-step speed setting bit 2)').\n",
    "code_function('34','SF3 (Multi-step speed setting bit 3)').\n",
    "code_function('35','SF4 (Multi-step speed setting bit 4)').\n",
    "code_function('36','SF5 (Multi-step speed setting bit 5)').\n",
    "code_function('37','SF6 (Multi-step speed setting bit 6)').\n",
    "code_function('38','SF7 (Multi-step speed setting bit 7)')."
   ]
  },
  {
   "cell_type": "code",
   "execution_count": null,
   "id": "810b1e48-ec70-49e8-b6f8-45da11fdd584",
   "metadata": {
    "tags": [],
    "vscode": {
     "languageId": "prolog"
    }
   },
   "outputs": [],
   "source": [
    "c001(X) :- \n",
    "    multi_step_speed_mode('disabled'),\n",
    "    code_function(X,F),\n",
    "    s1_input_function(F).\n",
    "\n",
    "c002(X) :- \n",
    "    multi_step_speed_mode('disabled'),\n",
    "    code_function(X,F),\n",
    "    s2_input_function(F).\n",
    "\n",
    "c003(X) :- \n",
    "    multi_step_speed_mode('disabled'),\n",
    "    code_function(X,F),\n",
    "    s3_input_function(F).\n",
    "\n",
    "c004(X) :- \n",
    "    multi_step_speed_mode('disabled'),\n",
    "    code_function(X,F),\n",
    "    s4_input_function(F).\n",
    "\n",
    "c005(X) :- \n",
    "    multi_step_speed_mode('disabled'),\n",
    "    code_function(X,F),\n",
    "    s5_input_function(F).\n",
    "\n",
    "c006(X) :- \n",
    "    multi_step_speed_mode('disabled'),\n",
    "    code_function(X,F),\n",
    "    s6_input_function(F).\n",
    "\n",
    "c007(X) :- \n",
    "    multi_step_speed_mode('disabled'),\n",
    "    code_function(X,F),\n",
    "    s7_input_function(F).\n",
    "    \n",
    "c011('00') :- \n",
    "    s1_normally_open(true).\n",
    "    \n",
    "c011('01') :- \n",
    "    s1_normally_open(false).\n",
    "    \n",
    "c012('00') :- \n",
    "    s2_normally_open(true).\n",
    "    \n",
    "c012('01') :- \n",
    "    s2_normally_open(false).\n",
    "    \n",
    "c013('00') :- \n",
    "    s3_normally_open(true).\n",
    "    \n",
    "c013('01') :- \n",
    "    s3_normally_open(false).\n",
    "    \n",
    "c014('00') :- \n",
    "    s4_normally_open(true).\n",
    "    \n",
    "c014('01') :- \n",
    "    s4_normally_open(false).\n",
    "    \n",
    "c015('00') :- \n",
    "    s5_normally_open(true).\n",
    "    \n",
    "c015('01') :- \n",
    "    s5_normally_open(false).\n",
    "    \n",
    "c016('00') :- \n",
    "    s6_normally_open(true).\n",
    "    \n",
    "c016('01') :- \n",
    "    s6_normally_open(false).\n",
    "    \n",
    "c017('00') :- \n",
    "    s7_normally_open(true).\n",
    "    \n",
    "c017('01') :- \n",
    "    s7_normally_open(false)."
   ]
  },
  {
   "cell_type": "code",
   "execution_count": null,
   "id": "9456781d-8c5f-4074-9ebc-f9827062a75a",
   "metadata": {
    "tags": [],
    "vscode": {
     "languageId": "prolog"
    }
   },
   "outputs": [],
   "source": [
    "findall([Upper_X, Y], ( member(X,['a001','a002']), call(X,Y), string_upper(X,Upper_X) ), ResultLists)."
   ]
  },
  {
   "cell_type": "code",
   "execution_count": null,
   "id": "54d30dd5-53d8-45e6-9d9f-3c3cd38f4288",
   "metadata": {
    "tags": [],
    "vscode": {
     "languageId": "prolog"
    }
   },
   "outputs": [],
   "source": [
    "jupyter:print_table($ResultLists, ['Parameter', 'Value'])."
   ]
  },
  {
   "cell_type": "code",
   "execution_count": null,
   "id": "a907fe84-cda4-4bb6-a695-b669050a23f2",
   "metadata": {
    "tags": [],
    "vscode": {
     "languageId": "prolog"
    }
   },
   "outputs": [],
   "source": [
    "jupyter:help"
   ]
  },
  {
   "cell_type": "code",
   "execution_count": null,
   "id": "ae3922ed-c99b-438a-ab9d-6abc20258c32",
   "metadata": {
    "tags": [],
    "vscode": {
     "languageId": "prolog"
    }
   },
   "outputs": [],
   "source": [
    "module(ex, []).\n",
    "use_module(library(yaml))."
   ]
  },
  {
   "cell_type": "code",
   "execution_count": null,
   "id": "8cedde10-be57-4759-a226-69a119e82b22",
   "metadata": {
    "tags": [],
    "vscode": {
     "languageId": "prolog"
    }
   },
   "outputs": [],
   "source": [
    "ex1:-\n",
    "    yaml_read('configuration.yml', YAML),\n",
    "    print_term(YAML, []).\n",
    ":- ex1."
   ]
  },
  {
   "cell_type": "code",
   "execution_count": null,
   "id": "fa2ee3a3-b6dc-4da1-a396-b9e0c8ab6364",
   "metadata": {
    "tags": [],
    "vscode": {
     "languageId": "prolog"
    }
   },
   "outputs": [],
   "source": [
    "yaml_read('configuration.yml', YAML), write(YAML.inverter)."
   ]
  },
  {
   "cell_type": "code",
   "execution_count": null,
   "id": "769d29e3-79d5-41e8-9c44-4d42e5080897",
   "metadata": {
    "tags": [],
    "vscode": {
     "languageId": "prolog"
    }
   },
   "outputs": [],
   "source": [
    ":- write(t{a:x}.get(a))."
   ]
  },
  {
   "cell_type": "code",
   "execution_count": null,
   "id": "437af94c-f658-464e-a165-7b036e3bb976",
   "metadata": {
    "vscode": {
     "languageId": "prolog"
    }
   },
   "outputs": [],
   "source": []
  }
 ],
 "metadata": {
  "kernelspec": {
   "display_name": "Prolog",
   "language": "prolog",
   "name": "prolog_kernel"
  },
  "language_info": {
   "codemirror_mode": "prolog",
   "file_extension": ".pl",
   "mimetype": "text/x-prolog",
   "name": "Prolog"
  }
 },
 "nbformat": 4,
 "nbformat_minor": 5
}
